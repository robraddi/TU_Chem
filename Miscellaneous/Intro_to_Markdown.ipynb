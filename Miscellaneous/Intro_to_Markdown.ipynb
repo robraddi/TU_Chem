{
 "cells": [
  {
   "cell_type": "markdown",
   "metadata": {},
   "source": [
    "<u>Introduction to Markdown</u>                   <!-- <u>Underlined</u> ,  ===== Heading -->\n",
    "=======================\n",
    "\n",
    "### Author: Rob Raddi                                         <!-- A Subheading -->\n",
    "\n",
    "<br/>                                          <!-- <br/> is HMTL for New line -->\n",
    "\n",
    "\n",
    "## Goal: \n",
    "### Create high-quality documents for students, professors, websites, blogs, manuscripts, etc...\n",
    "\n",
    "## Motives:\n",
    "1. Very light-weight language---easy to read and write.\n",
    "2. Able to be learned in 10-15 min.\n",
    "3. Complex mathematical expressions can become very tedious.\n",
    "4. Microsoft Word's equation editor is absolute trash, especially when using greek symbols. \n",
    "\n",
    "\n",
    "What is a Markup Language?     <!-- A Heading -->\n",
    "=======================\n",
    "\n",
    "### Markup is a generic term for a language that describes a document's formatting.\n",
    "#### Some popular examples include:\n",
    "<li> User interface (UI) markup languages </li>   <!-- li = A list -->\n",
    "Java, **HTML**, CSS                               <!-- **bold** -->\n",
    "\n",
    "<li> General purpose markup languages </li>\n",
    "XML, YAML, XHTML\n",
    "\n",
    "<li> Document markup languages </li>\n",
    "**LaTeX**, reStructuredText (rst), **Markdown**, **GitHub Flavored Markdown**   <!-- **bold** -->\n",
    "\n",
    "What is Markdown?\n",
    "================\n",
    "### Markdown is a specific markup library that carries out text-to-HTML conversion for writers. \n",
    "\n",
    "> Developed by: John Gruber <br/>                                    <!--     > blockquoting         --> \n",
    "> Initial release: March 19, 2004 <br/>                              <!-- <br/> is HMTL for New line -->\n",
    "> Latest release: December 17, 2004 <br/>\n",
    "> [Markdown Website](https://daringfireball.net/projects/markdown/)  <!--      [Website](URL)        -->\n"
   ]
  },
  {
   "cell_type": "markdown",
   "metadata": {},
   "source": [
    "Five Examples\n",
    "===========\n",
    "\n",
    "### Lennard-Jones potential:\n",
    "$$\n",
    "LJ(r) = 4\\epsilon( {\\frac{\\sigma}{r}}^{12} - {\\frac{\\sigma}{r}}^{6} ) \\tag{1}\n",
    "$$\n",
    "\n",
    "### Application of Hooke's Law to vibrational frequency:\n",
    "$$\n",
    "\\displaystyle \\widetilde{\\nu}={\\frac{1}{2\\pi c}}{\\sqrt {\\frac {k_{force}}{\\mu}}} \\tag{2}\n",
    "$$\n",
    "\n",
    "### Redox Reaction:\n",
    "$$ \n",
    "[Fe(CN)_{6}]^{3-} + e^{-} \\rightleftharpoons [Fe(CN)_{6}]^{4-} \\hspace{0.5cm}  E_{cell} = 0.356\\hspace{0.1cm} V\\tag{3} \n",
    "$$\n",
    "\n",
    "###  Heisenberg's Uncertainty Principle:\n",
    "$$ \n",
    "\\delta \\widehat{x} \\delta \\widehat{p} = \\sqrt{ \\langle\\widehat{x}^{2}\\rangle - \\langle\\widehat{x}\\rangle^{2} }\\sqrt{ \\langle\\widehat{p}^{2}\\rangle - \\langle\\widehat{p}\\rangle^{2} } \\geq \\frac{\\hbar}{2}  \\tag{4}\n",
    "$$\n",
    "\n",
    "### Volume of Sphere in Spherical Coordinates:\n",
    "$$\n",
    "{\\displaystyle V=\\int_{0}^{2\\pi}\\int_{0}^{\\pi}\\int_{0}^{r}\\rho^{2}\\sin\\theta \\,d\\rho\\,d\\theta \\,d\\varphi =2\\pi\\int_{0}^{\\pi}\\int_{0}^{r}\\rho^{2}\\sin\\theta \\,d\\rho\\,d\\theta =4\\pi\\int_{0}^{r}\\rho^{2}\\,d\\rho\\ ={\\frac{4}{3}}\\pi r^{3}.} \\tag{5}\n",
    "$$\n"
   ]
  },
  {
   "cell_type": "markdown",
   "metadata": {},
   "source": [
    "### How to get started:\n",
    "### Jupyter Notebook comes with installation of [Anaconda](https://www.anaconda.com/what-is-anaconda/) - is the world’s most popular Python data science platform that controls package management, dependencies and environments.\n",
    "\n",
    "\n",
    "#### Other sources and links to check out:\n",
    "\n",
    "1. [GitHub Flavored Markdown Cheatsheet](https://github.com/adam-p/markdown-here/wiki/Markdown-Cheatsheet#html)\n",
    "\n",
    "2. [My github page](https://github.com/robraddi)\n",
    "\n",
    "3. [LaTeX Mathematics](https://en.wikibooks.org/wiki/LaTeX/Mathematics)\n",
    "\n",
    "\n",
    "## Always a special thanks to [Prof. Vincent Voelz](http://www.voelzlab.org/the-team) and the [Voelz Lab](http://www.voelzlab.org)\n",
    "\n",
    "\n"
   ]
  }
 ],
 "metadata": {
  "kernelspec": {
   "display_name": "Python 3",
   "language": "python",
   "name": "python3"
  },
  "language_info": {
   "codemirror_mode": {
    "name": "ipython",
    "version": 3
   },
   "file_extension": ".py",
   "mimetype": "text/x-python",
   "name": "python",
   "nbconvert_exporter": "python",
   "pygments_lexer": "ipython3",
   "version": "3.7.1"
  }
 },
 "nbformat": 4,
 "nbformat_minor": 2
}
