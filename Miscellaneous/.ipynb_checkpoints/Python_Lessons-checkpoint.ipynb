{
 "cells": [
  {
   "cell_type": "markdown",
   "metadata": {},
   "source": [
    "# Python Basics\n",
    "\n",
    "<script src=\"custom/gtag.js\" type=\"text/javascript\"></script> \n",
    "<script>\n",
    "    gtag();\n",
    "</script>\n",
    "\n",
    "<style>\n",
    " @import url(\"./custom/gtag.js\");\n",
    "</style>\n",
    "\n",
    "Please refer to [python 3 documentation](https://docs.python.org/3/)"
   ]
  },
  {
   "cell_type": "markdown",
   "metadata": {},
   "source": [
    "#### <span style='color:black'>Table of Contents:</span> \n",
    "\n",
    "\n",
    "| $$Topic$$ | \n",
    "| :--- |\n",
    "| [Numpy and Linear Algebra](#Numpy-and-Linear-Algebra)   | \n",
    "| [Matrices with sympy](#Matrices-with-sympy)   |   \n",
    "| [Scipy and Matplotlib Plotting](#Scipy-and-Matplotlib-Plotting)  |   \n",
    "| [Control/Conditional Statements](#Control/Conditional-Statements)   |   \n",
    "| [Creating Methods](#Creating-Methods)   |  \n",
    "| [Strings](#Strings)  |\n",
    "\n",
    "\n",
    "\n"
   ]
  },
  {
   "cell_type": "markdown",
   "metadata": {},
   "source": [
    "## Numpy and Linear Algebra"
   ]
  },
  {
   "cell_type": "code",
   "execution_count": 1,
   "metadata": {},
   "outputs": [
    {
     "name": "stdout",
     "output_type": "stream",
     "text": [
      "[1 2 3 4 5 6]\n"
     ]
    }
   ],
   "source": [
    "import numpy as np\n",
    "# Creating two lists, a and b\n",
    "a=[1,2,3] \n",
    "b=[4,5,6]\n",
    "c=np.concatenate((a,b))\n",
    "print(c)"
   ]
  },
  {
   "cell_type": "code",
   "execution_count": 2,
   "metadata": {},
   "outputs": [
    {
     "name": "stdout",
     "output_type": "stream",
     "text": [
      "This is the frist output:  [ True  True  True False False]\n",
      "This is the second output:  [ True  True  True False  True]\n"
     ]
    }
   ],
   "source": [
    "## Logial operations are element-wise ##\n",
    "# Create an array\n",
    "f = np.array([1,2,3,4,5])\n",
    "print('This is the frist output: ',f < 4)\n",
    "print('This is the second output: ',(f<4) | (f>4)) # | is logical symbol for 'or'"
   ]
  },
  {
   "cell_type": "code",
   "execution_count": 3,
   "metadata": {},
   "outputs": [
    {
     "name": "stdout",
     "output_type": "stream",
     "text": [
      "[[1 2 3]\n",
      " [4 5 6]]\n"
     ]
    },
    {
     "data": {
      "text/plain": [
       "21"
      ]
     },
     "execution_count": 3,
     "metadata": {},
     "output_type": "execute_result"
    }
   ],
   "source": [
    "## Sums and Averages of elements inside array##\n",
    "g = np.array([[1,2,3],[4,5,6]])\n",
    "print(g)\n",
    "g.sum()"
   ]
  },
  {
   "cell_type": "code",
   "execution_count": 4,
   "metadata": {},
   "outputs": [
    {
     "data": {
      "text/plain": [
       "array([ 6, 15])"
      ]
     },
     "execution_count": 4,
     "metadata": {},
     "output_type": "execute_result"
    }
   ],
   "source": [
    "g.sum(axis=1)"
   ]
  },
  {
   "cell_type": "code",
   "execution_count": 5,
   "metadata": {},
   "outputs": [
    {
     "data": {
      "text/plain": [
       "3.5"
      ]
     },
     "execution_count": 5,
     "metadata": {},
     "output_type": "execute_result"
    }
   ],
   "source": [
    "g.mean()"
   ]
  },
  {
   "cell_type": "code",
   "execution_count": 6,
   "metadata": {},
   "outputs": [
    {
     "data": {
      "text/plain": [
       "1.707825127659933"
      ]
     },
     "execution_count": 6,
     "metadata": {},
     "output_type": "execute_result"
    }
   ],
   "source": [
    "g.std()"
   ]
  },
  {
   "cell_type": "code",
   "execution_count": 7,
   "metadata": {},
   "outputs": [
    {
     "name": "stdout",
     "output_type": "stream",
     "text": [
      "Help on built-in function std:\n",
      "\n",
      "std(...) method of numpy.ndarray instance\n",
      "    a.std(axis=None, dtype=None, out=None, ddof=0, keepdims=False)\n",
      "    \n",
      "    Returns the standard deviation of the array elements along given axis.\n",
      "    \n",
      "    Refer to `numpy.std` for full documentation.\n",
      "    \n",
      "    See Also\n",
      "    --------\n",
      "    numpy.std : equivalent function\n",
      "\n"
     ]
    }
   ],
   "source": [
    "# If we are not sure what a function or object is, then\n",
    "# we can look to the help page.\n",
    "help(g.std)"
   ]
  },
  {
   "cell_type": "code",
   "execution_count": 8,
   "metadata": {},
   "outputs": [
    {
     "data": {
      "text/plain": [
       "array([0.81649658, 0.81649658])"
      ]
     },
     "execution_count": 8,
     "metadata": {},
     "output_type": "execute_result"
    }
   ],
   "source": [
    "g.std(axis=1)"
   ]
  },
  {
   "cell_type": "code",
   "execution_count": 9,
   "metadata": {},
   "outputs": [
    {
     "name": "stdout",
     "output_type": "stream",
     "text": [
      "[[1 2 3]\n",
      " [4 5 6]\n",
      " [1 2 3]\n",
      " [7 8 9]]\n"
     ]
    }
   ],
   "source": [
    "# Take two matrices, a and b, then concatenate them.\n",
    "a=np.array([[1,2,3],[4,5,6]])\n",
    "b=np.array([[1,2,3],[7,8,9]])\n",
    "c=np.concatenate((a,b))\n",
    "print(c)"
   ]
  },
  {
   "cell_type": "code",
   "execution_count": 10,
   "metadata": {},
   "outputs": [
    {
     "name": "stdout",
     "output_type": "stream",
     "text": [
      "[[1. 4. 1. 1. 0. 0.]\n",
      " [2. 5. 2. 0. 1. 0.]\n",
      " [3. 6. 3. 0. 0. 1.]]\n"
     ]
    }
   ],
   "source": [
    "d = np.transpose(c) # transpose of c\n",
    "f = d[:,0:3] # first 3 columns of d\n",
    "g = np.eye(3) # identity 3x3\n",
    "h = np.concatenate((f,g), axis=0) # linking f and g\n",
    "I = np.concatenate((f,g), axis=1) # linking f and g\n",
    "print(I) # axis=1"
   ]
  },
  {
   "cell_type": "markdown",
   "metadata": {},
   "source": [
    "## Matrices with sympy"
   ]
  },
  {
   "cell_type": "code",
   "execution_count": 11,
   "metadata": {},
   "outputs": [
    {
     "name": "stdout",
     "output_type": "stream",
     "text": [
      "Row Reduce Echelon Form of the Matrix M is:\n",
      "\n"
     ]
    },
    {
     "data": {
      "text/latex": [
       "$$\\left ( \\left[\\begin{matrix}1 & 0 & -1\\\\0 & 1 & 2\\\\0 & 0 & 0\\end{matrix}\\right], \\quad \\left ( 0, \\quad 1\\right )\\right )$$"
      ],
      "text/plain": [
       "⎛⎡1  0  -1⎤        ⎞\n",
       "⎜⎢        ⎥        ⎟\n",
       "⎜⎢0  1  2 ⎥, (0, 1)⎟\n",
       "⎜⎢        ⎥        ⎟\n",
       "⎝⎣0  0  0 ⎦        ⎠"
      ]
     },
     "execution_count": 11,
     "metadata": {},
     "output_type": "execute_result"
    }
   ],
   "source": [
    "# Lets use sympy to construct a matrix\n",
    "## Matrices from docs.sympy.org ##\n",
    "from sympy import *\n",
    "# We can also make the output look pretty\n",
    "init_printing(use_unicode=True)\n",
    "M = Matrix([[1,2,3],[4,5,6],[7,8,9]])\n",
    "print('Row Reduce Echelon Form of the Matrix M is:\\n')\n",
    "M.rref()"
   ]
  },
  {
   "cell_type": "code",
   "execution_count": 12,
   "metadata": {},
   "outputs": [
    {
     "name": "stdout",
     "output_type": "stream",
     "text": [
      "See, we can still print, but it doesn't look as nice\n",
      " Matrix([[1, 2, 3], [4, 5, 6], [7, 8, 9]])\n"
     ]
    }
   ],
   "source": [
    "print(\"See, we can still print, but it doesn't look as nice\\n\",M)"
   ]
  },
  {
   "cell_type": "code",
   "execution_count": 13,
   "metadata": {},
   "outputs": [],
   "source": [
    "A = Matrix([[1,2,3],[4,5,6],[7,8,9]])"
   ]
  },
  {
   "cell_type": "code",
   "execution_count": 14,
   "metadata": {},
   "outputs": [
    {
     "data": {
      "image/png": "[encoded data removed]",
      "text/latex": [
       "$$\\left ( 3, \\quad 3\\right )$$"
      ],
      "text/plain": [
       "(3, 3)"
      ]
     },
     "execution_count": 14,
     "metadata": {},
     "output_type": "execute_result"
    }
   ],
   "source": [
    "# If you need an immutable version of Matrix, use ImmutableMatrix\n",
    "A.shape"
   ]
  },
  {
   "cell_type": "code",
   "execution_count": 15,
   "metadata": {},
   "outputs": [
    {
     "data": {
      "text/latex": [
       "$$\\left[\\begin{matrix}2\\\\5\\\\8\\end{matrix}\\right]$$"
      ],
      "text/plain": [
       "⎡2⎤\n",
       "⎢ ⎥\n",
       "⎢5⎥\n",
       "⎢ ⎥\n",
       "⎣8⎦"
      ]
     },
     "execution_count": 15,
     "metadata": {},
     "output_type": "execute_result"
    }
   ],
   "source": [
    "# to get individual rows of columns, use:\n",
    "A.row(0)\n",
    "A.col(1)"
   ]
  },
  {
   "cell_type": "code",
   "execution_count": 16,
   "metadata": {},
   "outputs": [
    {
     "data": {
      "text/latex": [
       "$$\\left[\\begin{matrix}1 & 2 & 3\\\\7 & 8 & 9\\end{matrix}\\right]$$"
      ],
      "text/plain": [
       "⎡1  2  3⎤\n",
       "⎢       ⎥\n",
       "⎣7  8  9⎦"
      ]
     },
     "execution_count": 16,
     "metadata": {},
     "output_type": "execute_result"
    }
   ],
   "source": [
    "# deleting and inserting rows and columns\n",
    "A.row_del(1)\n",
    "A"
   ]
  },
  {
   "cell_type": "code",
   "execution_count": 17,
   "metadata": {},
   "outputs": [
    {
     "data": {
      "text/latex": [
       "$$\\left[\\begin{matrix}1 & 7\\\\2 & 8\\\\3 & 9\\end{matrix}\\right]$$"
      ],
      "text/plain": [
       "⎡1  7⎤\n",
       "⎢    ⎥\n",
       "⎢2  8⎥\n",
       "⎢    ⎥\n",
       "⎣3  9⎦"
      ]
     },
     "execution_count": 17,
     "metadata": {},
     "output_type": "execute_result"
    }
   ],
   "source": [
    "A.T"
   ]
  },
  {
   "cell_type": "code",
   "execution_count": 18,
   "metadata": {},
   "outputs": [
    {
     "data": {
      "text/latex": [
       "$$\\left[\\begin{matrix}2 & 3 & 4\\\\5 & 8 & 3\\\\3 & 3 & 3\\end{matrix}\\right]$$"
      ],
      "text/plain": [
       "⎡2  3  4⎤\n",
       "⎢       ⎥\n",
       "⎢5  8  3⎥\n",
       "⎢       ⎥\n",
       "⎣3  3  3⎦"
      ]
     },
     "execution_count": 18,
     "metadata": {},
     "output_type": "execute_result"
    }
   ],
   "source": [
    "A = Matrix([[2,3,4],[5,8,3],[3,3,3]])\n",
    "A"
   ]
  },
  {
   "cell_type": "code",
   "execution_count": 19,
   "metadata": {},
   "outputs": [
    {
     "data": {
      "text/latex": [
       "$$\\left ( \\left[\\begin{matrix}1 & 0 & 0\\\\0 & 1 & 0\\\\0 & 0 & 1\\end{matrix}\\right], \\quad \\left ( 0, \\quad 1, \\quad 2\\right )\\right )$$"
      ],
      "text/plain": [
       "⎛⎡1  0  0⎤           ⎞\n",
       "⎜⎢       ⎥           ⎟\n",
       "⎜⎢0  1  0⎥, (0, 1, 2)⎟\n",
       "⎜⎢       ⎥           ⎟\n",
       "⎝⎣0  0  1⎦           ⎠"
      ]
     },
     "execution_count": 19,
     "metadata": {},
     "output_type": "execute_result"
    }
   ],
   "source": [
    "A.rref() # (rref, pivot columns)"
   ]
  },
  {
   "cell_type": "code",
   "execution_count": 20,
   "metadata": {},
   "outputs": [
    {
     "data": {
      "image/png": "[encoded data removed]",
      "text/latex": [
       "$$\\left [ \\right ]$$"
      ],
      "text/plain": [
       "[]"
      ]
     },
     "execution_count": 20,
     "metadata": {},
     "output_type": "execute_result"
    }
   ],
   "source": [
    "A.nullspace()"
   ]
  },
  {
   "cell_type": "code",
   "execution_count": 21,
   "metadata": {},
   "outputs": [
    {
     "data": {
      "text/latex": [
       "$$\\left[\\begin{matrix}1 & 2 & 3\\\\4 & 5 & 6\\\\7 & 8 & 9\\end{matrix}\\right]$$"
      ],
      "text/plain": [
       "⎡1  2  3⎤\n",
       "⎢       ⎥\n",
       "⎢4  5  6⎥\n",
       "⎢       ⎥\n",
       "⎣7  8  9⎦"
      ]
     },
     "execution_count": 21,
     "metadata": {},
     "output_type": "execute_result"
    }
   ],
   "source": [
    "B = Matrix([[1,2,3],[4,5,6],[7,8,9]])\n",
    "B"
   ]
  },
  {
   "cell_type": "code",
   "execution_count": 22,
   "metadata": {},
   "outputs": [
    {
     "data": {
      "text/latex": [
       "$$\\left ( \\left[\\begin{matrix}1 & 0 & -1\\\\0 & 1 & 2\\\\0 & 0 & 0\\end{matrix}\\right], \\quad \\left ( 0, \\quad 1\\right )\\right )$$"
      ],
      "text/plain": [
       "⎛⎡1  0  -1⎤        ⎞\n",
       "⎜⎢        ⎥        ⎟\n",
       "⎜⎢0  1  2 ⎥, (0, 1)⎟\n",
       "⎜⎢        ⎥        ⎟\n",
       "⎝⎣0  0  0 ⎦        ⎠"
      ]
     },
     "execution_count": 22,
     "metadata": {},
     "output_type": "execute_result"
    }
   ],
   "source": [
    "B.rref()"
   ]
  },
  {
   "cell_type": "code",
   "execution_count": 23,
   "metadata": {},
   "outputs": [
    {
     "data": {
      "text/latex": [
       "$$\\left [ \\left[\\begin{matrix}1\\\\-2\\\\1\\end{matrix}\\right]\\right ]$$"
      ],
      "text/plain": [
       "⎡⎡1 ⎤⎤\n",
       "⎢⎢  ⎥⎥\n",
       "⎢⎢-2⎥⎥\n",
       "⎢⎢  ⎥⎥\n",
       "⎣⎣1 ⎦⎦"
      ]
     },
     "execution_count": 23,
     "metadata": {},
     "output_type": "execute_result"
    }
   ],
   "source": [
    "B.nullspace()"
   ]
  },
  {
   "cell_type": "code",
   "execution_count": 24,
   "metadata": {},
   "outputs": [
    {
     "data": {
      "image/png": "[encoded data removed]",
      "text/latex": [
       "$$\\left \\{ -1 : 1, \\quad 2 : 1, \\quad 12 : 1\\right \\}$$"
      ],
      "text/plain": [
       "{-1: 1, 2: 1, 12: 1}"
      ]
     },
     "execution_count": 24,
     "metadata": {},
     "output_type": "execute_result"
    }
   ],
   "source": [
    "## Eigenvalues and Eigenvectors ##\n",
    "A.eigenvals() # returns (eigenvalue:algebraic multiplicity)"
   ]
  },
  {
   "cell_type": "code",
   "execution_count": 25,
   "metadata": {},
   "outputs": [
    {
     "data": {
      "text/latex": [
       "$$\\left [ \\left ( -1, \\quad 1, \\quad \\left [ \\left[\\begin{matrix}- \\frac{9}{4}\\\\\\frac{11}{12}\\\\1\\end{matrix}\\right]\\right ]\\right ), \\quad \\left ( 2, \\quad 1, \\quad \\left [ \\left[\\begin{matrix}1\\\\- \\frac{4}{3}\\\\1\\end{matrix}\\right]\\right ]\\right ), \\quad \\left ( 12, \\quad 1, \\quad \\left [ \\left[\\begin{matrix}1\\\\2\\\\1\\end{matrix}\\right]\\right ]\\right )\\right ]$$"
      ],
      "text/plain": [
       "⎡⎛       ⎡⎡-9/4⎤⎤⎞                                  ⎤\n",
       "⎢⎜       ⎢⎢    ⎥⎥⎟  ⎛      ⎡⎡ 1  ⎤⎤⎞  ⎛       ⎡⎡1⎤⎤⎞⎥\n",
       "⎢⎜       ⎢⎢ 11 ⎥⎥⎟  ⎜      ⎢⎢    ⎥⎥⎟  ⎜       ⎢⎢ ⎥⎥⎟⎥\n",
       "⎢⎜-1, 1, ⎢⎢ ── ⎥⎥⎟, ⎜2, 1, ⎢⎢-4/3⎥⎥⎟, ⎜12, 1, ⎢⎢2⎥⎥⎟⎥\n",
       "⎢⎜       ⎢⎢ 12 ⎥⎥⎟  ⎜      ⎢⎢    ⎥⎥⎟  ⎜       ⎢⎢ ⎥⎥⎟⎥\n",
       "⎢⎜       ⎢⎢    ⎥⎥⎟  ⎝      ⎣⎣ 1  ⎦⎦⎠  ⎝       ⎣⎣1⎦⎦⎠⎥\n",
       "⎣⎝       ⎣⎣ 1  ⎦⎦⎠                                  ⎦"
      ]
     },
     "execution_count": 25,
     "metadata": {},
     "output_type": "execute_result"
    }
   ],
   "source": [
    "A.eigenvects()\n",
    "# which returns (eigenvalue:algebraic multiplicity, [eigenvectors])"
   ]
  },
  {
   "cell_type": "code",
   "execution_count": 26,
   "metadata": {},
   "outputs": [
    {
     "name": "stdout",
     "output_type": "stream",
     "text": [
      "Matrix([[-27, 3, 1], [11, -4, 2], [12, 3, 1]])\n",
      "Matrix([[-1, 0, 0], [0, 2, 0], [0, 0, 12]])\n"
     ]
    }
   ],
   "source": [
    "## dagonlizable matrices ##\n",
    "#  A = PDP^-1\n",
    "P, D = A.diagonalize()\n",
    "print(P)\n",
    "print(D)"
   ]
  },
  {
   "cell_type": "code",
   "execution_count": 27,
   "metadata": {},
   "outputs": [
    {
     "data": {
      "image/png": "[encoded data removed]",
      "text/latex": [
       "$$\\lambda \\left(\\lambda - 2\\right) \\left(\\lambda - 1\\right)$$"
      ],
      "text/plain": [
       "λ⋅(λ - 2)⋅(λ - 1)"
      ]
     },
     "execution_count": 27,
     "metadata": {},
     "output_type": "execute_result"
    }
   ],
   "source": [
    "# remember that lambda is a reserved keyword in python, so\n",
    "# to create the symbol use: lamda (without the 'b')\n",
    "\n",
    "lamda = symbols('lamda')\n",
    "\n",
    "B = Matrix([[1, 0 , 1],[1, 1, 2], [ 1, 0, 1]])\n",
    "B\n",
    "\n",
    "b = B.charpoly(lamda)\n",
    "b\n",
    "\n",
    "factor(b)"
   ]
  },
  {
   "cell_type": "markdown",
   "metadata": {},
   "source": [
    "## Scipy and Matplotlib Plotting"
   ]
  },
  {
   "cell_type": "code",
   "execution_count": 28,
   "metadata": {},
   "outputs": [
    {
     "name": "stdout",
     "output_type": "stream",
     "text": [
      "x**2 + 5*x + 6\n"
     ]
    }
   ],
   "source": [
    "x = symbols('x')\n",
    "y = x**2 + 5*x + 6\n",
    "print(y)"
   ]
  },
  {
   "cell_type": "code",
   "execution_count": 29,
   "metadata": {},
   "outputs": [
    {
     "name": "stdout",
     "output_type": "stream",
     "text": [
      " 3      2      \n",
      "x    5⋅x       \n",
      "── + ──── + 6⋅x\n",
      "3     2        \n"
     ]
    }
   ],
   "source": [
    "y_x = integrate(y)\n",
    "pprint(y_x)"
   ]
  },
  {
   "cell_type": "code",
   "execution_count": 30,
   "metadata": {},
   "outputs": [],
   "source": [
    "## Constructing a large lil_matrix and add values to it ##\n",
    "from scipy.sparse import lil_matrix\n",
    "from scipy.sparse.linalg import spsolve\n",
    "from numpy.linalg import solve, norm\n",
    "from numpy.random import rand\n",
    "## Optimization ##\n",
    "#Minimization (steepest-decentm conjugate gradient), curve-fitting, least squares, root finding (Newton's method), annealing, etc. \n",
    "import scipy.optimize as optimize"
   ]
  },
  {
   "cell_type": "code",
   "execution_count": 31,
   "metadata": {},
   "outputs": [],
   "source": [
    "## Curve Fitting Example ##\n",
    "def func(x,a,b,c):\n",
    "    return a*np.exp(-b*x) + c"
   ]
  },
  {
   "cell_type": "code",
   "execution_count": 32,
   "metadata": {},
   "outputs": [
    {
     "data": {
      "text/plain": [
       "(array([2.68646283, 1.51320963, 0.53692262]),\n",
       " array([[ 0.01767912,  0.00851316, -0.00063102],\n",
       "        [ 0.00851316,  0.02293804,  0.00501921],\n",
       "        [-0.00063102,  0.00501921,  0.00242487]]))"
      ]
     },
     "execution_count": 32,
     "metadata": {},
     "output_type": "execute_result"
    }
   ],
   "source": [
    "x = np.linspace(0,4,50) # 50 values linearly in [0,4]\n",
    "y = func(x,2.5,1.3,0.5)\n",
    "yn = y + 0.2*np.random.normal(size=len(x))\n",
    "popt,pcov = optimize.curve_fit(func,x,yn)\n",
    "popt,pcov # optimized parameters and their covariance"
   ]
  },
  {
   "cell_type": "code",
   "execution_count": 33,
   "metadata": {},
   "outputs": [
    {
     "data": {
      "text/plain": [
       "<Figure size 640x480 with 0 Axes>"
      ]
     },
     "execution_count": 33,
     "metadata": {},
     "output_type": "execute_result"
    }
   ],
   "source": [
    "## Matplotlib ##\n",
    "from matplotlib.pyplot import *\n",
    "from pylab import *\n",
    "x = np.arange(0,10,0.2)\n",
    "y = np.cos(x)\n",
    "figure()"
   ]
  },
  {
   "cell_type": "code",
   "execution_count": 34,
   "metadata": {},
   "outputs": [
    {
     "data": {
      "image/png": "[encoded data removed]",
      "text/plain": [
       "<Figure size 432x288 with 1 Axes>"
      ]
     },
     "metadata": {
      "needs_background": "light"
     },
     "output_type": "display_data"
    }
   ],
   "source": [
    "plot(x,y,'g*')\n",
    "show()"
   ]
  },
  {
   "cell_type": "code",
   "execution_count": 35,
   "metadata": {},
   "outputs": [
    {
     "data": {
      "text/plain": [
       "[<matplotlib.lines.Line2D at 0x1015127320>]"
      ]
     },
     "execution_count": 35,
     "metadata": {},
     "output_type": "execute_result"
    },
    {
     "data": {
      "image/png": "[encoded data removed]",
      "text/plain": [
       "<Figure size 432x288 with 1 Axes>"
      ]
     },
     "metadata": {
      "needs_background": "light"
     },
     "output_type": "display_data"
    }
   ],
   "source": [
    "# or we can show the figure inline\n",
    "%matplotlib inline\n",
    "plot(x,-np.exp(2*y),'g*')"
   ]
  },
  {
   "cell_type": "markdown",
   "metadata": {},
   "source": [
    "## Control/Conditional Statements"
   ]
  },
  {
   "cell_type": "code",
   "execution_count": 36,
   "metadata": {},
   "outputs": [
    {
     "name": "stdout",
     "output_type": "stream",
     "text": [
      "single\n"
     ]
    }
   ],
   "source": [
    "## Contidtionsl and Flow Statements ##\n",
    "\n",
    "## 'if' Statement\n",
    "x = int(1) # Change the initial condition to alt output\n",
    "if x < 0:\n",
    "    x = 0\n",
    "    print('Negative goes to zero')\n",
    "elif x == 0:\n",
    "    print('Zero')\n",
    "elif x == 1:\n",
    "    print('single')\n",
    "else:\n",
    "    print('More')"
   ]
  },
  {
   "cell_type": "code",
   "execution_count": 37,
   "metadata": {},
   "outputs": [
    {
     "name": "stdout",
     "output_type": "stream",
     "text": [
      "Rob 3\n",
      "Ron 3\n",
      "Felish 6\n",
      "George 6\n",
      "Shoe 4\n",
      "0 Rob\n",
      "1 Ron\n",
      "2 Felish\n",
      "3 George\n",
      "4 Shoe\n"
     ]
    }
   ],
   "source": [
    "##  Examples using 'for' statement\n",
    "# create a list of names\n",
    "Names = ['Rob', 'Ron', 'Felish', 'George', 'Shoe']\n",
    "for x in Names:\n",
    "    # print the ith element of the list, followed by \n",
    "    # the number of charecters the name has. \n",
    "    print(x, len(x))\n",
    "\n",
    "# Here's another way to do the same thing...\n",
    "# but let x be the ith iteration.\n",
    "Names = ['Rob', 'Ron', 'Felish', 'George', 'Shoe']\n",
    "for i in range(len(Names)):\n",
    "    print(i,Names[i])"
   ]
  },
  {
   "cell_type": "code",
   "execution_count": 38,
   "metadata": {},
   "outputs": [
    {
     "name": "stdout",
     "output_type": "stream",
     "text": [
      "Zero\n",
      "1\n",
      "2\n",
      "Three\n",
      "4\n"
     ]
    }
   ],
   "source": [
    "for x in range(5):    # range(5) = {0,1,2,3,4}\n",
    "    if x == 3:        # if x=3, print out the string\n",
    "        print('Three')\n",
    "    elif x == 0:      # \"elseif\" needed after 'if' to continue with condiditions of the same statement\n",
    "        print('Zero')\n",
    "    else:             # otherwise, print out the remaining\n",
    "        print(x)"
   ]
  },
  {
   "cell_type": "code",
   "execution_count": 39,
   "metadata": {},
   "outputs": [
    {
     "data": {
      "text/plain": [
       "['Rob', 'Ron', 'Shoe', 'Name', 'Name']"
      ]
     },
     "execution_count": 39,
     "metadata": {},
     "output_type": "execute_result"
    }
   ],
   "source": [
    "for x in Names[:]: # Loops over a slice copy of the entire list.\n",
    "    if len(x) > 5:\n",
    "        Names.remove(x)\n",
    "        Names.append('Name')\n",
    "        \n",
    "Names"
   ]
  },
  {
   "cell_type": "code",
   "execution_count": 40,
   "metadata": {},
   "outputs": [
    {
     "name": "stdout",
     "output_type": "stream",
     "text": [
      "2 is a prime number\n",
      "3 is a prime number\n",
      "4 = 2 * 2.0\n",
      "5 is a prime number\n",
      "6 = 2 * 3.0\n",
      "7 is a prime number\n",
      "8 = 2 * 4.0\n",
      "9 = 3 * 3.0\n",
      "10 = 2 * 5.0\n",
      "11 is a prime number\n",
      "12 = 2 * 6.0\n",
      "13 is a prime number\n",
      "14 = 2 * 7.0\n",
      "15 = 3 * 5.0\n",
      "16 = 2 * 8.0\n",
      "17 is a prime number\n",
      "18 = 2 * 9.0\n",
      "19 is a prime number\n",
      "20 = 2 * 10.0\n",
      "21 = 3 * 7.0\n",
      "22 = 2 * 11.0\n",
      "23 is a prime number\n",
      "24 = 2 * 12.0\n",
      "25 = 5 * 5.0\n",
      "26 = 2 * 13.0\n",
      "27 = 3 * 9.0\n",
      "28 = 2 * 14.0\n",
      "29 is a prime number\n",
      "30 = 2 * 15.0\n",
      "31 is a prime number\n",
      "32 = 2 * 16.0\n",
      "33 = 3 * 11.0\n",
      "34 = 2 * 17.0\n",
      "35 = 5 * 7.0\n",
      "36 = 2 * 18.0\n",
      "37 is a prime number\n",
      "38 = 2 * 19.0\n",
      "39 = 3 * 13.0\n",
      "40 = 2 * 20.0\n",
      "41 is a prime number\n",
      "42 = 2 * 21.0\n",
      "43 is a prime number\n",
      "44 = 2 * 22.0\n",
      "45 = 3 * 15.0\n",
      "46 = 2 * 23.0\n",
      "47 is a prime number\n",
      "48 = 2 * 24.0\n",
      "49 = 7 * 7.0\n"
     ]
    }
   ],
   "source": [
    "## 'break' and 'continue' Statements, and 'else' Clauses on loops\n",
    "## Prime Numbers ##\n",
    "for n in range(2,50):\n",
    "    for x in range(2, n):\n",
    "        if n % x == 0:\n",
    "            print(n, '=', x, '*', n/x)\n",
    "            break\n",
    "    else:\n",
    "        # loop fell through without finding a factor\n",
    "        print(n, 'is a prime number')\n",
    "        "
   ]
  },
  {
   "cell_type": "code",
   "execution_count": 41,
   "metadata": {},
   "outputs": [
    {
     "name": "stdout",
     "output_type": "stream",
     "text": [
      "Found an even number 2\n",
      "Found an odd number 3\n",
      "Found an even number 4\n",
      "Found an odd number 5\n",
      "Found an even number 6\n",
      "Found an odd number 7\n",
      "Found an even number 8\n",
      "Found an odd number 9\n"
     ]
    }
   ],
   "source": [
    "## Even and Odd example\n",
    "for n in range(2, 10):\n",
    "    if n % 2 == 0:\n",
    "        print('Found an even number', n)\n",
    "        continue\n",
    "    print('Found an odd number', n)\n",
    "\n",
    "## 'pass' Statements\n",
    "\n",
    "# pass statement does nothin.  It can be used requires no action.\n",
    "# It can be used for creaing minimal classes.\n",
    "# It can also be used as a place-holder for a function\n",
    "def initlog(*arguments):\n",
    "    pass  # remember to implement this!"
   ]
  },
  {
   "cell_type": "markdown",
   "metadata": {},
   "source": [
    "## Creating Methods"
   ]
  },
  {
   "cell_type": "code",
   "execution_count": 42,
   "metadata": {},
   "outputs": [
    {
     "name": "stdout",
     "output_type": "stream",
     "text": [
      "0\n",
      "1\n",
      "1\n",
      "2\n",
      "3\n",
      "5\n",
      "8\n",
      "13\n",
      "21\n",
      "34\n",
      "55\n",
      "89\n",
      "144\n",
      "233\n",
      "377\n",
      "610\n",
      "987\n",
      "1597\n"
     ]
    }
   ],
   "source": [
    "## Defining Functions ##\n",
    "def fib(n):  # write Fibonacci series up to n\n",
    "    \"\"\"Print a Fibonacci series up to n.\"\"\"\n",
    "    a,b = 0,1\n",
    "    while a < n:\n",
    "        print(a,)\n",
    "        a,b = b,a+b\n",
    "        \n",
    "# Now, calling on the function just made\n",
    "fib(2000)"
   ]
  },
  {
   "cell_type": "code",
   "execution_count": 43,
   "metadata": {},
   "outputs": [
    {
     "data": {
      "image/png": "[encoded data removed]",
      "text/latex": [
       "$$\\left [ 0, \\quad 1, \\quad 1, \\quad 2, \\quad 3, \\quad 5, \\quad 8, \\quad 13, \\quad 21, \\quad 34, \\quad 55, \\quad 89\\right ]$$"
      ],
      "text/plain": [
       "[0, 1, 1, 2, 3, 5, 8, 13, 21, 34, 55, 89]"
      ]
     },
     "execution_count": 43,
     "metadata": {},
     "output_type": "execute_result"
    }
   ],
   "source": [
    "## changing fib to fib2\n",
    "def fib2(n):  # write Fibonacci series up to n\n",
    "    \"\"\"Return a list containing the Fibonacci series up to n.\"\"\"\n",
    "    result = []\n",
    "    a,b = 0,1\n",
    "    while a < n:\n",
    "        result.append(a) \n",
    "        a,b = b,a+b\n",
    "    return result\n",
    "        \n",
    "fib2(100)"
   ]
  },
  {
   "cell_type": "code",
   "execution_count": 44,
   "metadata": {},
   "outputs": [
    {
     "name": "stdout",
     "output_type": "stream",
     "text": [
      "[1]\n",
      "[1, 2]\n",
      "[1, 2, 3]\n",
      "[1, 2, 3, 100]\n"
     ]
    }
   ],
   "source": [
    " #The return statement returns with a value from a function.\n",
    " #return without an expression arugment returns None.\n",
    " #The statement result.append(a) calls a method of the list object result.\n",
    " #A method i a function that belongs to an object and is named obj.methodname\n",
    "\n",
    "def f(a, L=[]):\n",
    "    L.append(a)\n",
    "    return L\n",
    "\n",
    "print(f(1))\n",
    "print(f(2))\n",
    "print(f(3))\n",
    "print(f(100))"
   ]
  },
  {
   "cell_type": "code",
   "execution_count": 45,
   "metadata": {},
   "outputs": [
    {
     "name": "stdout",
     "output_type": "stream",
     "text": [
      "[0]\n",
      "[1]\n",
      "[2]\n",
      "[100]\n"
     ]
    }
   ],
   "source": [
    "# If you dont want the default to be shared with subsequent calls...\n",
    "def f(a, L=None):\n",
    "    if L is None:\n",
    "        L = [] # generate a new list every iteration\n",
    "    L.append(a)\n",
    "    return L\n",
    "\n",
    "print(f(0))\n",
    "print(f(1))\n",
    "print(f(2))\n",
    "print(f(100))"
   ]
  },
  {
   "cell_type": "code",
   "execution_count": 46,
   "metadata": {},
   "outputs": [],
   "source": [
    "## Keyword Arguments ##\n",
    "# which are of the form: kwarg=value\n",
    "# In general:\n",
    "# def func(required, state, action, type):\n",
    "\n",
    "# lets make one up...\n",
    "food=['apple', 'organges', 'bread', 'salad']\n",
    "def store(food, state='need', action='buy', type='cash'):\n",
    "    if food == 'salad':\n",
    "        print('This store has the groceries I', state,',' )\n",
    "        print(\"but doesn't have\", food, )\n",
    "    elif food == 'organges':\n",
    "        print('They have', food, 'but I have insignificant', type,)\n",
    "    "
   ]
  },
  {
   "cell_type": "code",
   "execution_count": 47,
   "metadata": {},
   "outputs": [
    {
     "name": "stdout",
     "output_type": "stream",
     "text": [
      "This store has the groceries I need ,\n",
      "but doesn't have salad\n"
     ]
    }
   ],
   "source": [
    "store('salad')\n",
    "# This needs work (not finished)"
   ]
  },
  {
   "cell_type": "code",
   "execution_count": 48,
   "metadata": {},
   "outputs": [
    {
     "name": "stdout",
     "output_type": "stream",
     "text": [
      "Help on function my_function in module __main__:\n",
      "\n",
      "my_function()\n",
      "    Insert a short, concise summary of the object's purpose.\n",
      "\n",
      "None\n"
     ]
    }
   ],
   "source": [
    "## The template for writing a function ##\n",
    "\n",
    "def my_function():\n",
    "    '''Insert a short, concise summary of the object's purpose.'''\n",
    "    pass\n",
    "\n",
    "print(help(my_function)) # just showing the docstring for the function"
   ]
  },
  {
   "cell_type": "markdown",
   "metadata": {},
   "source": [
    "## Strings"
   ]
  },
  {
   "cell_type": "code",
   "execution_count": 41,
   "metadata": {},
   "outputs": [
    {
     "name": "stdout",
     "output_type": "stream",
     "text": [
      "['Hello,', 'my', 'name', 'is', 'Enter', 'Name', 'Here.']\n"
     ]
    }
   ],
   "source": [
    "name = 'Enter Name Here'  # Enter your name here\n",
    "intro = 'Hello, my name is %s.'%(name)\n",
    "\n",
    "## Let's do some string minipulation...\n",
    "\n",
    "# First, lets separate this statement by each space \n",
    "# we can put each word into a list \n",
    "List = [word for word in intro.split(\" \")]\n",
    "print(List)"
   ]
  },
  {
   "cell_type": "code",
   "execution_count": 42,
   "metadata": {},
   "outputs": [
    {
     "name": "stdout",
     "output_type": "stream",
     "text": [
      "['Hello', 'my', 'name', 'is', 'Enter', 'Name', 'Here']\n"
     ]
    }
   ],
   "source": [
    "# We can get rid of any punctuation marks with replace\n",
    "List = [word.replace(\".\",\"\").replace(\",\",\"\") for word in intro.split(\" \")]\n",
    "print(List)"
   ]
  },
  {
   "cell_type": "code",
   "execution_count": 43,
   "metadata": {},
   "outputs": [
    {
     "name": "stdout",
     "output_type": "stream",
     "text": [
      "7\n"
     ]
    }
   ],
   "source": [
    "# We can print the length of the list (number of words)\n",
    "print(len(List))"
   ]
  },
  {
   "cell_type": "code",
   "execution_count": 44,
   "metadata": {},
   "outputs": [
    {
     "name": "stdout",
     "output_type": "stream",
     "text": [
      "Word 1/7 has 5 characters.\n",
      "Word 2/7 has 2 characters.\n",
      "Word 3/7 has 4 characters.\n",
      "Word 4/7 has 2 characters.\n",
      "Word 5/7 has 5 characters.\n",
      "Word 6/7 has 4 characters.\n",
      "Word 7/7 has 4 characters.\n",
      "The total number of characters in the list is 26\n"
     ]
    }
   ],
   "source": [
    "# We can print the length of each element in the list (number of characters)\n",
    "nChar = 0  # start a count of the number of characters \n",
    "for i in range(len(List)):\n",
    "    nChar += len(List[i])\n",
    "    print('Word %i/%i has %i characters.'%(i+1,len(List),len(List[i])))\n",
    "print('The total number of characters in the list is %i'%nChar)"
   ]
  },
  {
   "cell_type": "code",
   "execution_count": null,
   "metadata": {},
   "outputs": [],
   "source": []
  },
  {
   "cell_type": "code",
   "execution_count": null,
   "metadata": {},
   "outputs": [],
   "source": []
  }
 ],
 "metadata": {
  "kernelspec": {
   "display_name": "Python 3",
   "language": "python",
   "name": "python3"
  },
  "language_info": {
   "codemirror_mode": {
    "name": "ipython",
    "version": 3
   },
   "file_extension": ".py",
   "mimetype": "text/x-python",
   "name": "python",
   "nbconvert_exporter": "python",
   "pygments_lexer": "ipython3",
   "version": "3.7.1"
  }
 },
 "nbformat": 4,
 "nbformat_minor": 2
}
