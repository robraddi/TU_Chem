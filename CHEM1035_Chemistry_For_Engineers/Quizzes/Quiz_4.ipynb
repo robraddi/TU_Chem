{
 "cells": [
  {
   "cell_type": "markdown",
   "metadata": {},
   "source": [
    "### <span style='color:Black'>Temple University, Chemistry for Engineers (CHEM1035) - Spring 2019 - Quiz #4: Chemical Bonding & Molecular Structure </span>\n",
    "#### Teaching Assistant: Rob Raddi\n",
    "##### Show your work! Always provide units! Check your significant figures! Best of luck!\n",
    "<br>\n",
    "$\\epsilon_{0} = 8.85\\times10^{-12}C^{2}J^{-1}m^{-1}$; $\\hspace{1cm} e=1.602\\times10^{-19}C$\n",
    "<br>\n",
    "\n",
    "1)  Calculate the coulombic potential energy of NaBr with a equilibrium bond length of 0.250 nm.\n",
    "\n",
    "$$ V(r) = -\\frac{ Z_{1}Z_{2}e^{2}}{4 \\pi \\epsilon_{0} r} $$\n",
    "\n",
    "\n",
    "$$V(r) = -\\frac{ Z_{1}Z_{2}e^{2}}{4 \\pi \\epsilon_{0} r} = -\\frac{ (+1)(-1)(1.602\\times10^{-19}C)^{2}}{4 \\pi (8.85\\times10^{-12}C^{2}J^{-1}m^{-1}) (2.5\\times10^{-10}m)} = 9.23\\times10^{-19} J$$\n",
    "\n",
    "\n",
    "<br>\n",
    "\n",
    "\n",
    "<br>"
   ]
  },
  {
   "cell_type": "markdown",
   "metadata": {},
   "source": [
    "2) Roughly plot the overall effective potential energy ($V_{eff} = V_{Coulombic}(Attraction) + F(Repulsion) $).  Label the attractive and repulsive parts of a potential energy surface ( $V( r )_{eff}$ (eV) against $r$ (Å) ), label the equilibrium bond distance $r_{e}$ and the corresponding bond energy $E_{bond}$.\n",
    "\n",
    "<br>\n",
    "\n",
    "<!--\n",
    "<img src=\"https://i.stack.imgur.com/UE1w7.png\" width=\"300\" height=\"300\" align=\"center\" >\n",
    "-->\n",
    "\n",
    "<br>\n",
    "\n",
    "<img src=\"http://staff.um.edu.mt/jgri1/teaching/che2372/notes/10_st/04/F14_1.gif\" width=\"200\" height=\"200\" align=\"center\" >\n",
    "\n",
    "[Go back to the notes to learn more](http://localhost:8889/notebooks/CHEM1035_Chemistry_For_Engineers/CHEM1035-Recitations.ipynb#Potential-Energy-for-Ions)\n"
   ]
  },
  {
   "cell_type": "markdown",
   "metadata": {},
   "source": [
    "3) \n",
    "(a) Draw a lewis dot structure of $SF_{6}$ and predict its geometry. \n",
    "\n",
    "<br>\n",
    "<img src=\"https://people.uwplatt.edu/~sundin/images/lewsf6.gif\" width=\"150\" height=\"150\" align=\"center\" >\n",
    "\n",
    ">**Answer:** Octahedral \n",
    "\n",
    "\n",
    "<br>\n",
    "\n",
    "\n",
    "(b) Draw the lewis dot structure of nitrite ($NO_{2}^{-}$). Does it have a resonance structure? If so, draw it.\n",
    "\n",
    "\n",
    "<img src=\"https://www.thoughtco.com/thmb/cXYWNOOKYZRpv8taGUxiFGeoUm8=/768x0/filters:no_upscale():max_bytes(150000):strip_icc()/lewisnitrite-56a128825f9b58b7d0bc90cf.jpg\" width=\"400\" height=\"400\" align=\"center\" >\n",
    "\n",
    "<br>\n",
    "<br>\n",
    "\n",
    "\n",
    "4) Consider the nitrogen–oxygen bond lengths in\n",
    "NO<sub>2</sub><sup>+</sup>, NO<sub>2</sub><sup>–</sup>, and\n",
    "NO<sub>3</sub><sup>–</sup>. In which ion is the bond predicted to be\n",
    "longest? In which is it predicted to be the shortest? Explain briefly.\n",
    "\n",
    "\n",
    ">**Answer:** The shortest bond belongs to NO<sub>2</sub><sup>+</sup> in which\n",
    ">both N–O bonds are double bonds. This means that the bond order for this\n",
    ">molecule is 2.0. The longest is the nitrate ($NO_{3}^{-}$) as the bond order is 1.33.\n",
    ">\n",
    ">\n",
    ">Nitronium ion, NO<sub>2</sub><sup>+</sup>\n",
    ">\n",
    "><img src=\"https://upload.wikimedia.org/wikipedia/commons/d/da/Nitronium-2D-dimensions.png\" align=\"left\" height=\"100\" width=\"100\">\n",
    ">\n",
    "><br>\n",
    "><br>\n",
    "><br>\n",
    ">\n",
    ">Nitrate, NO<sub>3</sub><sup>–</sup>\n",
    ">\n",
    "><img src=\"https://i.stack.imgur.com/9vH4n.png\" align=\"left\" height=\"300\" width=\"300\">\n",
    ">\n",
    "><br><br><br><br>\n",
    ">Nitrite, NO<sub>2</sub><sup>–</sup> is above in question (3)\n",
    "><br>\n",
    "\n",
    "\n",
    "\n",
    "<br>\n"
   ]
  }
 ],
 "metadata": {
  "kernelspec": {
   "display_name": "Python 3",
   "language": "python",
   "name": "python3"
  },
  "language_info": {
   "codemirror_mode": {
    "name": "ipython",
    "version": 3
   },
   "file_extension": ".py",
   "mimetype": "text/x-python",
   "name": "python",
   "nbconvert_exporter": "python",
   "pygments_lexer": "ipython3",
   "version": "3.7.2"
  }
 },
 "nbformat": 4,
 "nbformat_minor": 2
}
