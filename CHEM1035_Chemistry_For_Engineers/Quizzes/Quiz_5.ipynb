{
 "cells": [
  {
   "cell_type": "markdown",
   "metadata": {},
   "source": [
    "### <span style='color:Black'>Temple University, Chemistry for Engineers (CHEM1035) - Spring 2019 - Quiz #5:  </span>\n",
    "#### Teaching Assistant: Rob Raddi\n",
    "##### Show your work! Always provide units! Check your significant figures! Best of luck!\n",
    "<br>"
   ]
  },
  {
   "cell_type": "markdown",
   "metadata": {},
   "source": [
    "<br>\n",
    "\n",
    "(1) Select all crystalline solids.\n",
    "\n",
    "**a. NaCl**\n",
    "\n",
    "**b. Quartz**\n",
    "\n",
    "**c. Ruby**\n",
    "\n",
    "**d. Sapphire**\n",
    "\n",
    "**e. Asbestos**\n",
    "\n",
    "\n",
    "(2) Consider two atoms with orbital overlap and they interact with constructive interference. What type of orbital is this?\n",
    "\n",
    "a. antibonding atomic orbital \n",
    "\n",
    "b. bonding atomic orbital \n",
    " \n",
    "**c. bonding molecular orbital** \n",
    "\n",
    "d. antibonding molecular orbital\n",
    "\n",
    "\n",
    "\n",
    "(3) Which of the following conductors is the best at conducting of electricity? (hint: look for each of these elements on the periodic table)\n",
    "\n",
    "a. Aluminum\n",
    "\n",
    "b. Silicon\n",
    "\n",
    "**c. Silver**\n",
    "\n",
    "d. Zinc\n",
    "\n",
    "\n",
    "(4) An n-type semiconductor can be produced if germanium (the host) is doped with an element that:\n",
    "\n",
    "**a. has more valence electrons than the host.**\n",
    "\n",
    "b. \thas fewer valence electrons than the host.\n",
    "\n",
    "c. \thas the same number of valance electrons as the host.\n",
    "\n",
    "d. \tbelongs to group 13 of the periodic table.\n",
    "\n",
    "\n",
    "(5) A p-type semiconductor can be formed if silicon is doped with an element that:\n",
    "\n",
    "a.  has more valence electrons than silicon.\n",
    "\n",
    "**b.  has fewer valence electrons than silicon.**\n",
    "\n",
    "c.  belongs to group 14 of the modern periodic table.\n",
    "\n",
    "d.  belongs to group 15 of the modern periodic table.\n",
    "\n",
    "\n",
    "\n",
    "\n"
   ]
  }
 ],
 "metadata": {
  "kernelspec": {
   "display_name": "Python 3",
   "language": "python",
   "name": "python3"
  },
  "language_info": {
   "codemirror_mode": {
    "name": "ipython",
    "version": 3
   },
   "file_extension": ".py",
   "mimetype": "text/x-python",
   "name": "python",
   "nbconvert_exporter": "python",
   "pygments_lexer": "ipython3",
   "version": "3.7.2"
  }
 },
 "nbformat": 4,
 "nbformat_minor": 2
}
