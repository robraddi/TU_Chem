{
 "cells": [
  {
   "cell_type": "markdown",
   "metadata": {},
   "source": [
    "### <span style='color:Black'>Temple University, Chemistry for Engineers (CHEM1035) - Spring 2019 - Quiz #6: Thermodynamics  </span>\n",
    "#### Teaching Assistant: Rob Raddi\n",
    "##### Show your work! Always provide units! Check your significant figures! Best of luck!\n",
    "<br>\n",
    "\n",
    "1) Identify the process as spontaneous or non-spontaneous.\n",
    "\n",
    "**Water molecules in the air are converted to hydrogen and oxygen gases.**\n",
    "\n",
    "\n",
    "> This is thermal decomposition of water.\n",
    ">\n",
    "> $$ {2H_{2}O}_{(g)} \\rightarrow {2H_{2}}_{(g)} + {O_{2}}_{(g)} $$\n",
    ">\n",
    "> it is a *non-spontaneous*.  Heat is required for this process.\n",
    ">\n",
    ">Hydrogen and oxygen combining to form water is the spontaneous process:\n",
    ">\n",
    ">$$ {2H_{2}}_{(g)} + {O_{2}}_{(g)}  \\rightarrow  {2H_{2}O}_{(g)} $$\n",
    "\n",
    "\n",
    "\n",
    "<br>"
   ]
  },
  {
   "cell_type": "markdown",
   "metadata": {},
   "source": [
    "2) For the following chemical reactions, predict the sign of *∆S* for the system and explain why. \n",
    "\n",
    "**(a)** 3 NO<sub>2</sub>(g) + H<sub>2</sub>O(l) → 2 HNO<sub>3</sub>(l) + NO(g)\n",
    "\n",
    "> Δ*S* is negative b/c the number of moles of gas is decreasing\n",
    "\n",
    "**(b)** SiCl<sub>4</sub>(g) → Si(s) + 2 Cl<sub>2</sub>(g) \n",
    "\n",
    "> Δ*S* is positive b/c the number of moles of gas is increasing\n",
    "\n",
    "**(c)** Cl<sub>2</sub>(g) + 2 NO(g) → 2 NOCl (g) \n",
    "\n",
    "> Δ*S* is negative b/c the number of moles of gas is decreasing\n",
    "\n",
    "**(extra)** ${\\mathrm{Cl}_{2}}_{(g)} \\rightarrow {\\mathrm{Cl}_{2}}_{(l)}$\n",
    "\n",
    "> Δ*S* is negative b/c phase is changing to be more organized.\n",
    "\n",
    "<br>\n",
    "\n",
    "\n"
   ]
  },
  {
   "cell_type": "markdown",
   "metadata": {},
   "source": [
    "3) Calculate the entropy change, ΔS°, for the vaporization of ethanol, C<sub>2</sub>H<sub>5</sub>OH, at the boiling point of 78.3°C. The heat of vaporization of the alcohol is 39.3 kJ/mol.\n",
    "\n",
    "C<sub>2</sub>H<sub>5</sub>OH<sub>(l)</sub> → C<sub>2</sub>H<sub>5</sub>OH<sub>(g)</sub> ΔS° = ?\n",
    "\n",
    "> You can think of this problem in two ways:\n",
    ">\n",
    ">$$ \\Delta G° = \\Delta H° - T\\Delta S°, $$\n",
    "> but we know that $dG = PdV - SdT,$ where temperature, T is held constant so $\\Delta T = 0$, hence \n",
    "> $$dG = PdV = -w$$\n",
    "> We know that all of the energy supplied to substance is used to convert the phase during the phase change, so no work is done during the phase change.\n",
    "> Therefore, $dG = -w = 0$\n",
    ">$$ 0 = \\Delta H° - T\\Delta S° $$\n",
    ">$$ T\\Delta S° = \\Delta H° $$\n",
    ">$$ \\Delta S° = \\frac{\\Delta H°}{T} $$\n",
    ">$$\\Delta S° = 112 J mol^{–1} K^{–1}$$ \n",
    ">\n",
    ">**Or you can just use dimensional analysis to solve the problem...**\n",
    ">\n",
    ">$$\\frac{39 kJ mol^{-1}}{(78.3+273.)}(\\frac{1000 J}{1kJ}) = 112\\text{ J }mol^{–1} K^{–1}$$\n",
    ">\n"
   ]
  },
  {
   "cell_type": "markdown",
   "metadata": {},
   "source": [
    "\n",
    "4) Discuss the effect of temperature change on the spontaneity of the\n",
    "following reactions at 1 atm.\n",
    "\n",
    "(a) Al<sub>2</sub>O<sub>3</sub>(s) +2 Fe(s) → 2 Al(s) + Fe<sub>2</sub>O<sub>3</sub>(s) ; ΔH° = +851.5 kJ; ΔS° = +38.5 J/K\n",
    "\n",
    "(b) N<sub>2</sub>H<sub>4</sub>(l) → N<sub>2</sub>(g) + 2 H<sub>2</sub>(g) ; ΔH° = –50.6 kJ; ΔS° = 0.3315 kJ/K\n",
    "\n",
    "(c) SO<sub>3</sub>(g) → SO<sub>2</sub>(g) + O<sub>2</sub>(g); ΔH° = 98.9 kJ; ΔS° = +0.0939 kJ/K\n",
    "\n",
    "\n",
    "> ΔG = ΔH – TΔS \n",
    ">\n",
    ">It follows that, if a process must have a negative ΔG to be spontaneous AND the process is endothermic.\n",
    ">\n",
    ">Therefore:\n",
    ">\n",
    ">(a) is spontaneous above 2.21 × 10<sup>4</sup> K\n",
    ">\n",
    ">(b) is always spontaneous\n",
    ">\n",
    ">(c) is spontaneous above 1.05 × 10<sup>3</sup> K\n",
    "\n",
    "\n",
    "\n",
    "\n",
    "\n",
    "<br>"
   ]
  },
  {
   "cell_type": "markdown",
   "metadata": {},
   "source": [
    "5) Nickel metal reacts with carbon monoxide to form tetracarbonyl nickel, Ni(CO)<sub>4</sub>:\n",
    "\n",
    "Ni(s) + 4 CO(g) → Ni(CO)<sub>4</sub>(g)\n",
    "\n",
    "Predict the signs of ΔH° and ΔS° for the reaction as written\n",
    "above. (Note that bonds are formed but none are broken.)\n",
    "\n",
    "\n",
    ">∆H° &lt; 0; because heat is released when bonds are formed. \n",
    "> *∆S*° &lt; 0\n",
    ">\n"
   ]
  }
 ],
 "metadata": {
  "kernelspec": {
   "display_name": "Python 3",
   "language": "python",
   "name": "python3"
  },
  "language_info": {
   "codemirror_mode": {
    "name": "ipython",
    "version": 3
   },
   "file_extension": ".py",
   "mimetype": "text/x-python",
   "name": "python",
   "nbconvert_exporter": "python",
   "pygments_lexer": "ipython3",
   "version": "3.6.8"
  }
 },
 "nbformat": 4,
 "nbformat_minor": 2
}
