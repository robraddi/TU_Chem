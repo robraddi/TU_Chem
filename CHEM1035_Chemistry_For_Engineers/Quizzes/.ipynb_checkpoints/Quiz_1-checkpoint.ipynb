{
 "cells": [
  {
   "cell_type": "markdown",
   "metadata": {},
   "source": [
    "### <span style='color:Black'>Temple University, Chemistry for Engineers (CHEM1035) - Spring 2019 - Quiz #1: Dimensional Analysis</span>\n",
    "#### Teaching Assistant: Rob Raddi\n",
    "##### Show your work! Always provide units! Check your significant figures! Best of luck!\n",
    "\n",
    "<br/>\n",
    "\n",
    "1) On average, Earth's crust contains about 8.1% aluminum by mass. If a standard 12 oz soft drink can contains approximately 15.0 g of aluminum, how many cans could be made from five metric tons of the Earth's crust? (1 metric ton = 1000 kg)\n",
    "\n",
    "$$(\\frac{\\text{1 can}}{\\text{15.0 g Al}})(\\frac{1000g}{1kg})(\\frac{1000kg}{\\text{1 metric ton}})(\\frac{(\\text{5 metric tons})(0.081)}{}) = \\text{$2.7*10^{4}$ cans} $$\n",
    "\n",
    "\n",
    "2)\n",
    "\n",
    "a) A sample of crude oil has a density of 0.87 g/mL. What volume in liters does a 188.5 kg sample of this oil occupy? \n",
    "\n",
    "\n",
    "$$(\\frac{L}{\\text{1000 mL}})(\\frac{mL}{0.87g})(\\frac{1000g}{kg})(\\frac{188.5 kg}{}) = \\text{216.6 L = $2.2*10^{2}$ L} $$\n",
    "\n",
    "\n",
    "b) What is the height in centimeters that the oil will reach if placed in a standard oil barrel with a 572 mm diameter? Volume of Cylinder, $V = \\pi r^{2} h$.\n",
    "\n",
    "Rearrange for the height, then solve:\n",
    "\n",
    "$$ h = \\frac{V}{\\pi r^{2}}  = \\frac{V}{\\pi (0.5*d)^{2}} $$\n",
    "\n",
    "$$ h = \\frac{(\\frac{cm^{3}}{mL})(\\frac{mL}{0.87g})(\\frac{1000g}{kg})(\\frac{188.5kg}{})}{\\pi(0.5*(\\frac{100cm}{1m})(\\frac{1m}{1000mm})(\\frac{572mm}{}))^{2}} = \\text{84 cm}$$\n",
    "\n",
    "\n",
    "\n",
    "\n",
    "\n",
    "3) All matter has a property called a specific heat capacity. For silver, this specific heat capacity is 0.24 J/(g*K). If 48 kJ of energy is required to raise the temperature of the silver from 25 °C to 30.4 °C, what is the mass of the silver? (Hint: look at the dimensions of specific heat capacity, then solve)\n",
    "\n",
    "$$ C_{s} = \\frac{q}{m\\Delta T} \\implies m = \\frac{q}{C_{s}\\Delta T}$$\n",
    "\n",
    "$$ \\Delta T = 30.4 °C - 25°C = 5.4 K$$\n",
    "\n",
    "$$m = (\\frac{\\text{1 kg}}{\\text{1000 g}})(\\frac{\\text{g K}}{\\text{0.24 J}})(\\frac{\\text{1000 J}}{\\text{1 kJ}})(\\frac{\\text{48 kJ}}{\\text{}})(\\frac{\\text{}}{\\text{5.4 K}})= \\text{37 kg} $$\n",
    "\n",
    "\n",
    "## Or\n",
    "\n",
    "$$m = \\frac{\\text{48 kJ}}{(\\frac{kJ}{\\text{1000 J}}\\frac{\\text{0.24 J}}{g K})(\\text{5.4 K})} = \\text{37 kg} $$\n",
    "\n",
    "\n",
    "\n",
    "\n",
    "\n"
   ]
  }
 ],
 "metadata": {
  "kernelspec": {
   "display_name": "Python 2",
   "language": "python",
   "name": "python2"
  },
  "language_info": {
   "codemirror_mode": {
    "name": "ipython",
    "version": 2
   },
   "file_extension": ".py",
   "mimetype": "text/x-python",
   "name": "python",
   "nbconvert_exporter": "python",
   "pygments_lexer": "ipython2",
   "version": "2.7.15"
  }
 },
 "nbformat": 4,
 "nbformat_minor": 2
}
