{
 "cells": [
  {
   "cell_type": "markdown",
   "metadata": {},
   "source": [
    "# <span style='color:Blue'>Temple University, Chemistry for Engineers (CHEM1035) - Spring 2019</span>\n",
    "## Lessons & Practice Problems\n",
    "\n",
    "### Teaching Assistant: Rob Raddi\n",
    "\n",
    "\n"
   ]
  },
  {
   "cell_type": "markdown",
   "metadata": {},
   "source": [
    "#### Textbook:\n"
   ]
  },
  {
   "cell_type": "markdown",
   "metadata": {},
   "source": [
    "#### <span style='color:black'>Table of Contents:</span>\n",
    "\n",
    "| Section \\# | Topic |\n",
    "| :--- | :--- |\n",
    "| [1.](#1.)   |  |  \n",
    "| [2.](#2.)   |  |  \n",
    "| [3.](#3.)   |  |  \n",
    "| [4.](#4.)   |  |  \n",
    "| [5.](#5.)   |  |  \n",
    "| [6.](#6.)   |  |  \n",
    "| [7.](#7.)   |  |  \n",
    "| [8.](#8.)   |  |  \n",
    "| [9.](#9.)   |  |  \n",
    "| [10.](#10.) |  |\n",
    "| [11.](#11.) |  |\n",
    "| [12.](#12.) |  |\n",
    "| [13.](#13.) |  |\n",
    "| [14.](#14.) |  |\n",
    "| [15.](#15.) |  |\n",
    "| [16.](#16.) |  |\n",
    "| [17.](#17.) |  |\n",
    "| [18.](#18.) |  |\n",
    "| [19.](#19.) |  |\n",
    "| [20.](#20.) |  |\n",
    "| [21.](#21.) |  |\n",
    "| [22.](#22.) |  |\n",
    "| [23.](#23.) |  |\n",
    "| [24.](#24.) |  |\n",
    "| [27.](#25.) |  |\n",
    "| [28.](#26.) |  |\n",
    "| [29.](#27.) |  |\n",
    "\n",
    "<footer id=\"attribution\" style=\"float:right; color:#999; background:#fff;\">\n",
    "© 2018 Rob Raddi\n",
    "</footer>"
   ]
  },
  {
   "cell_type": "markdown",
   "metadata": {},
   "source": []
  },
  {
   "cell_type": "code",
   "execution_count": null,
   "metadata": {},
   "outputs": [],
   "source": []
  },
  {
   "cell_type": "code",
   "execution_count": null,
   "metadata": {},
   "outputs": [],
   "source": []
  },
  {
   "cell_type": "code",
   "execution_count": null,
   "metadata": {},
   "outputs": [],
   "source": []
  },
  {
   "cell_type": "code",
   "execution_count": null,
   "metadata": {},
   "outputs": [],
   "source": []
  }
 ],
 "metadata": {
  "kernelspec": {
   "display_name": "Python 3",
   "language": "python",
   "name": "python3"
  },
  "language_info": {
   "codemirror_mode": {
    "name": "ipython",
    "version": 3
   },
   "file_extension": ".py",
   "mimetype": "text/x-python",
   "name": "python",
   "nbconvert_exporter": "python",
   "pygments_lexer": "ipython3",
   "version": "3.7.1"
  }
 },
 "nbformat": 4,
 "nbformat_minor": 2
}
