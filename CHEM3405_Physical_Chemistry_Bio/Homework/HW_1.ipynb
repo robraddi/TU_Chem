{
 "cells": [
  {
   "cell_type": "markdown",
   "metadata": {},
   "source": [
    "### <span style='color:Black'>Temple University,Physical Chemistry for Biomolecules (CHEM3405) - Spring 2019 - Homework #1: </span>\n",
    "#### Teaching Assistant: Rob Raddi\n",
    "\n",
    "<br/>\n",
    "\n",
    "\n",
    "**9.11 Calculate the size of the quantum involved in the excitation of (a) an electronic motion of frequency 1.0 × 1015 Hz, (b) a molecular vibration of period 20 fs, and (c) a pendulum of period 0.50 s. Express the results in joules and in kilojoules per mole.**\n",
    "\n",
    "\n",
    "\n",
    "**9.13 Calculate the de Broglie wave length of (a) a mass of 1.0g traveling at $1.0 m\\space s^{−1}$, (b) the same, traveling at $1.00 × 105 km \\space s^{−1}$, (c) an He atom traveling at $1000 m\\space s^{−1}$ (a typical speed at room temperature), (d) yourself traveling at $8 km h^{−1}$, and (e) yourself at rest.**\n",
    "\n",
    "\n",
    "**9.14 Calculate the linear momentum per photon, energy per photon, and the energy per mole of photons for radiation of wavelength (a) 600 nm (red), (b) 550 nm (yellow), (c) 400 nm (violet), (d) 200 nm (ultraviolet), (e) 150 pm (X-ray), and (f ) 1.0 cm (microwave).**\n",
    "\n",
    "\n",
    "**9.17 The speed of a certain proton is $350 km \\space s^{−1}$. If the uncertainty in its momentum is 0.0100 per cent, what uncertainty in its location must be tolerated?**\n",
    "\n",
    "\n",
    "\n",
    "**9.18 An electron is confined to a linear region with a length of the same order as the diameter of an atom (about 100 pm). Calculate the minimum uncertainties in its position and speed.**\n",
    "\n",
    "\n"
   ]
  },
  {
   "cell_type": "markdown",
   "metadata": {},
   "source": [
    "**9.19**\n",
    "\n",
    "Integration has already been done from $0$ to $L$ giving $N = \\sqrt{2/L}$.\n",
    "\n",
    "$$\\psi = \\sqrt{2/L}sin(2\\pi x/L)$$\n",
    "\n",
    "\n",
    "$$P(x) = | \\psi | ^{2}\\delta x = | \\psi^{*}\\psi |\\delta x = \\frac{2}{L}sin^{2}(2\\pi x/L)\\delta x,$$\n",
    "\n",
    "where $\\delta x$ is the region we are interested in.\n",
    "\n",
    "The problem told us that $x\\in [0.1,0.2]$nm. If the length of the box is 10 nm, then by intuition the probability should be very small.\n",
    "\n",
    "$$P(x) = \\frac{2}{L}sin^{2}(2\\pi x/L)\\delta x = \\frac{2}{L}sin^{2}(2\\pi x/L)(x_2 - x_1),$$\n",
    "\n",
    "where x = 1.5 (half way between the bounds) and x_2 = 0.2, x_1 = 0.1.\n",
    "\n",
    "It turns out that 9.20 (the next problem) addresses this **approximation** and shows a discrepancy between answers when integration over the limits $[0.1,0.2]$ and using the **approximation**. \n",
    "The integration method should give $1.84x10^{-4}$\n",
    "\n",
    "\n",
    "**9.22**\n",
    "\n",
    "Don't use $N$. Our initial answer was correct.\n",
    "\n",
    "$$\\int_{0}^{L}\\psi^{2}dx = \\int_{0}^{L}A^{2} dx = ... $$\n",
    "\n",
    "\n",
    "\n"
   ]
  },
  {
   "cell_type": "code",
   "execution_count": null,
   "metadata": {},
   "outputs": [],
   "source": []
  }
 ],
 "metadata": {
  "kernelspec": {
   "display_name": "Python 3",
   "language": "python",
   "name": "python3"
  },
  "language_info": {
   "codemirror_mode": {
    "name": "ipython",
    "version": 3
   },
   "file_extension": ".py",
   "mimetype": "text/x-python",
   "name": "python",
   "nbconvert_exporter": "python",
   "pygments_lexer": "ipython3",
   "version": "3.7.3"
  }
 },
 "nbformat": 4,
 "nbformat_minor": 2
}
