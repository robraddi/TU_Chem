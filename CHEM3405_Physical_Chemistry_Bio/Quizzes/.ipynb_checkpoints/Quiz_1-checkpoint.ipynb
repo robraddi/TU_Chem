{
 "cells": [
  {
   "cell_type": "markdown",
   "metadata": {},
   "source": [
    "### <span style='color:Black'>Temple University,Physical Chemistry for Biomolecules (CHEM3405) - Spring 2019 - Quiz #1: </span>\n",
    "#### Teaching Assistant: Rob Raddi\n",
    "##### Show your work! Always provide units! Check your significant figures! Best of luck!\n",
    "\n",
    "<br/>\n",
    "\n",
    "\n",
    "\n",
    "\n"
   ]
  },
  {
   "cell_type": "code",
   "execution_count": null,
   "metadata": {},
   "outputs": [],
   "source": []
  }
 ],
 "metadata": {
  "kernelspec": {
   "display_name": "Python 3",
   "language": "python",
   "name": "python3"
  },
  "language_info": {
   "codemirror_mode": {
    "name": "ipython",
    "version": 3
   },
   "file_extension": ".py",
   "mimetype": "text/x-python",
   "name": "python",
   "nbconvert_exporter": "python",
   "pygments_lexer": "ipython3",
   "version": "3.7.3"
  }
 },
 "nbformat": 4,
 "nbformat_minor": 2
}
