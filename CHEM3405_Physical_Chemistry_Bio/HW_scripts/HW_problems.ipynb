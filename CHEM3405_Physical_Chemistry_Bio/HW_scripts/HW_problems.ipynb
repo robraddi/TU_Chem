{
 "cells": [
  {
   "cell_type": "code",
   "execution_count": 2,
   "metadata": {},
   "outputs": [],
   "source": [
    "import numpy as np"
   ]
  },
  {
   "cell_type": "markdown",
   "metadata": {},
   "source": [
    "## Problem 9.19"
   ]
  },
  {
   "cell_type": "code",
   "execution_count": 3,
   "metadata": {},
   "outputs": [
    {
     "name": "stdout",
     "output_type": "stream",
     "text": [
      "[0.00000000e+00 1.00010001e-03 2.00020002e-03 ... 9.99799980e+00\n",
      " 9.99899990e+00 1.00000000e+01]\n",
      "1.0000000000000016\n"
     ]
    }
   ],
   "source": [
    "# Showing that from 0 to L is equal to 1\n",
    "L = 10\n",
    "P = 0\n",
    "x = np.linspace(0, L, 10000)\n",
    "dx = x[1]-x[0]\n",
    "print(x)\n",
    "for i in range(1,len(x)):\n",
    "    P += (2./L)*np.sin(2.*np.pi*x[i]/L)**2.*dx\n",
    "print(P)"
   ]
  },
  {
   "cell_type": "code",
   "execution_count": 4,
   "metadata": {},
   "outputs": [
    {
     "name": "stdout",
     "output_type": "stream",
     "text": [
      "[0.1     0.10001 0.10002 ... 0.19998 0.19999 0.2    ]\n",
      "0.0001836011751749096\n"
     ]
    }
   ],
   "source": [
    "L = 10\n",
    "P = 0\n",
    "x = np.linspace(0.1, 0.2, 10000)\n",
    "dx = x[1]-x[0]\n",
    "print(x)\n",
    "for i in range(1,len(x)):\n",
    "    P += (2./L)*np.sin(2.*np.pi*x[i]/L)**2.*dx\n",
    "print(P)"
   ]
  },
  {
   "cell_type": "code",
   "execution_count": 5,
   "metadata": {},
   "outputs": [
    {
     "name": "stdout",
     "output_type": "stream",
     "text": [
      "[4.9        4.90003    4.90006001 ... 5.19993999 5.19997    5.2       ]\n",
      "0.00023622105701632835\n"
     ]
    }
   ],
   "source": [
    "L = 10\n",
    "P = 0\n",
    "x = np.linspace(4.9, 5.2, 10000)\n",
    "dx = x[1]-x[0]\n",
    "print(x)\n",
    "for i in range(1,len(x)):\n",
    "    P += (2./L)*np.sin(2.*np.pi*x[i]/L)**2.*dx\n",
    "print(P)"
   ]
  },
  {
   "cell_type": "markdown",
   "metadata": {},
   "source": [
    "## Problem "
   ]
  },
  {
   "cell_type": "markdown",
   "metadata": {},
   "source": []
  },
  {
   "cell_type": "code",
   "execution_count": null,
   "metadata": {},
   "outputs": [],
   "source": []
  }
 ],
 "metadata": {
  "kernelspec": {
   "display_name": "Python 3",
   "language": "python",
   "name": "python3"
  },
  "language_info": {
   "codemirror_mode": {
    "name": "ipython",
    "version": 3
   },
   "file_extension": ".py",
   "mimetype": "text/x-python",
   "name": "python",
   "nbconvert_exporter": "python",
   "pygments_lexer": "ipython3",
   "version": "3.7.4"
  }
 },
 "nbformat": 4,
 "nbformat_minor": 2
}
