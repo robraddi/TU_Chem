{
 "cells": [
  {
   "cell_type": "markdown",
   "metadata": {
    "colab_type": "text",
    "id": "9pBMlx91VZ4G"
   },
   "source": [
    "<h4><span style='color:blue'>13.</span></h4>\n",
    "\n",
    "\n",
    "<p><strong>Computer Lab – Chemical Kinetics 1</strong></p>\n",
    "<p><strong>Goal</strong>: The purpose of this lab is to become familiar with modeling a simple ligand binding reaction.</p>\n",
    "<p><strong>Introduction</strong></p>\n",
    "<p>Consider a binding reaction where ligand ($L$) binds to a protein receptor ($R$) to form a loosely bound encounter complex ($L\\cdot R$), and finally a tightly bound product ($P$) with the forward and backward rate constants $k_{f}$ and $k_{b}$, respectively.<a href=\"#fn_note1\" class=\"footnote-ref\" id=\"fn_note1\"><sup>1</sup></a></p>\n",
    "\n",
    "$$L + R \\underset{k_{b1}}{\\stackrel{k_{f1}}{⥂}} L\\cdot R \\stackrel{k_{f2}}{\\rightarrow} P \\tag{1}$$\n",
    "\n",
    "\n",
    "<p>First, we need to write out the elementary rate equations:</p>\n",
    "\n",
    "\\begin{align*}\n",
    "    \\\\\n",
    "    \\frac{d[L]}{dt} &= \\frac{d[R]}{dt} = -k_{f1}[L][R] + k_{b1}[L\\cdot R] \\tag{1.1}\\\\\n",
    "    \\frac{d[L\\cdot R]}{dt} &= k_{f1}[L][R] -k_{b1}[L\\cdot R] - k_{f2}[L\\cdot R] \\tag{1.2}\\\\\n",
    "    \\frac{d[P]}{dt} &=  k_{f2}[L\\cdot R] \\tag{1.3}\n",
    "    \\\\\n",
    "\\end{align*}\n",
    "\n",
    "Next, we apply a steady state approximation on $d[L\\cdot R]/dt$:\n",
    "\n",
    "\\begin{equation}\n",
    "k_{b1}[L\\cdot R] = k_{f1}[L][R] - k_{f2}[L\\cdot R]\n",
    " \\implies \\boxed{[L\\cdot R] = \\left( \\frac{k_{f1}}{k_{b1}+k_{f2}} [L][R]\\right)}\n",
    "\\end{equation}\n",
    "\n",
    "Now, we take $[L\\cdot R]$ and substitute into equations ${1.1}$ and ${1.3}$. \n",
    "\n",
    "\\begin{align}\n",
    "    \\frac{d[L]}{dt} &= \\frac{d[R]}{dt} = -k_{f1}[L][R] + k_{b1}\\left(\\frac{k_{f1}}{k_{b1}+k_{f2}} [L][R] \\right) \\tag{1.1a}\\\\\n",
    "    \\frac{d[P]}{dt} &=  k_{f2} \\left( \\frac{k_{f1}}{k_{b1}+k_{f2}} [L][R]\\right) \\tag{1.3a}\n",
    "\\end{align}\n",
    "\n",
    "\n",
    "<section class=\"footnotes\">\n",
    "<hr>\n",
    "<ol>\n",
    "<li id=\"fn_note1\"><p>Note that this last kinetic step is “one-way”, which violates thermodynamics (!). Don’t worry about this yet (we’re getting to kinetics soon in the lecture). For now, suffice it to say that here we invoke the assumption that the back rate is very small compared to forward rate.<a href=\"#fn_note1\" class=\"footnote-back\">↩</a></p></li>\n",
    "</ol>\n",
    "<hr>\n",
    "</section>\n",
    "\n",
    "\n"
   ]
  },
  {
   "cell_type": "markdown",
   "metadata": {
    "colab_type": "text",
    "id": "FZ6dbRltVlZF"
   },
   "source": [
    "<p>Let’s walk through the steps of how to build a model of this receptor-ligand reaction using Python.</p>\n",
    "\n",
    "<p><strong>Procedure</strong></p>\n",
    "<p><strong>Part I.</strong></p>\n",
    "<ol class=\"incremental\" type=\"1\">\n",
    "<li><p>Set initial concentration of ligand to 10.0 and receptor to 5.0</p></li>\n",
    "<li><p>Set <code>rate_eqs=ODE_eqs_part_I</code></p></li>\n",
    "<ol class=\"incremental\" type=\"a\">\n",
    "<ol class=\"incremental\" type=\"i\">\n",
    "<li><p>set “Forward Rate Parameter” ($k_{f1}$) value to 0.02</p></li>\n",
    "<li><p>set “Reverse Rate Parameter” ($k_{b1}$) value to 0.01</p></li>\n",
    "</ol></li>\n",
    "</ol></li>\n",
    "<li><p>Run the simulation and save the graph.</p></li>\n",
    "</ol></li>\n",
    "</ol>\n",
    "<p><strong>Part II.</strong></p>\n",
    "<ol class=\"incremental\" type=\"1\">\n",
    "<li><p>Repeat simulation for following values:</p>\n",
    "<li><p>Add \"k-prod\" ($k_{f2}$) and set value to 0.05.</p></li>\n",
    "<li><p>Set <code>rate_eqs=ODE_eqs_part_II</code></p></li>\n",
    "<li><p>Run the simulation and save the graph.</p></li>\n",
    "<ol class=\"incremental\" start=\"1\" type=\"a\">\n",
    "<li><p>Does the reaction reach a steady state?</p></li>\n",
    "<li><p>If not, increase simulation time to 100 </p></li>\n",
    "<li><p>Set <code>rate_eqs=ODE_eqs_part_II_SS</code></p></li>   \n",
    "<li><p>Run the simulation. How does this plot/simulation differ from the last?</p></li>\n",
    "</ol></li>\n",
    "<li><p>Repeat simulation for following values:</p>\n",
    "<ol class=\"incremental\" start=\"5\" type=\"a\">\n",
    "<li><p>Set <code>rate_eqs=ODE_eqs_part_II</code></p></li>  \n",
    "<li><p>“Forward Rate Parameter” ($k_{f1}$): 0.01 , “Reverse Rate Parameter” ($k_{b1}$): 0.02 , “k-prod” ($k_{f2}$): 0.05</p></li>\n",
    "<li><p>“Forward Rate Parameter” ($k_{f1}$): 0.02, “Reverse Rate Parameter” ($k_{b1}$): 0.01 , “k-prod” ($k_{f2}$): 0.5</p></li>\n",
    "</ol></li>\n",
    "<!--\n",
    "<li><p>Now, add a new cell block under each simulation in Part II.edit the rate equations using the steady state approximation and compare the simulations:</p>\n",
    "<ol class=\"incremental\" start=\"3\" type=\"a\">    \n",
    "<li><p>Set <code>rate_eqs=ODE_eqs_part_II_SS</code></p></li>\n",
    "<li><p>What differences do you see?</p></li>\n",
    "</ol></li>\n",
    "-->\n",
    "</ol>\n",
    "    \n",
    "    "
   ]
  },
  {
   "cell_type": "code",
   "execution_count": null,
   "metadata": {
    "colab": {},
    "colab_type": "code",
    "id": "DzT5fBQrsc-H"
   },
   "outputs": [],
   "source": [
    "import numpy as np\n",
    "import pandas as pd"
   ]
  },
  {
   "cell_type": "code",
   "execution_count": null,
   "metadata": {
    "colab": {},
    "colab_type": "code",
    "id": "eURE-tpAL5M1"
   },
   "outputs": [],
   "source": [
    "def ODE_eqs_part_I(C, t, k):\n",
    "    r\"\"\"\n",
    "    :math:`L + R \\underset{k_{b1}}{\\stackrel{k_{f1}}{⥂}} L\\cdot R`\n",
    "\n",
    "    Args:\n",
    "        C(list): collection of concentrations for each species [L, R, LR]\n",
    "        t(float): iterate over some time-course\n",
    "        k(list): collection of rate constants [kf1, kb1]\n",
    "    \"\"\"\n",
    "    \n",
    "    kf1, kb1 = k[0], k[1]\n",
    "    dC1dt = -kf1*C[0]*C[1]+kb1*C[2]\n",
    "    dC0dt = dC1dt\n",
    "    dC2dt = -dC1dt\n",
    "    return [dC0dt, dC1dt, dC2dt]\n",
    "\n",
    "\n",
    "def ODE_eqs_part_II(C, t, k):\n",
    "    r\"\"\"See eqs 1.1, 1.2 and 1.3\n",
    "    :math:`L + R \\underset{k_{b1}}{\\stackrel{k_{f1}}{⥂}} L\\cdot R \\stackrel{k_{f2}}{\\rightarrow} P`\n",
    "\n",
    "    Args:\n",
    "        C(list): collection of concentrations for each species [L, R, LR, P]\n",
    "        t(float): iterate over some time-course\n",
    "        k(list): collection of rate constants [kf1, kb1, kf2]\n",
    "    \"\"\"\n",
    "    \n",
    "    kf1, kb1, kf2 = k[0], k[1], k[2]\n",
    "    dC1dt = -kf1*C[0]*C[1]+kb1*C[2]\n",
    "    dC0dt = dC1dt\n",
    "    dC2dt = k[0]*C[0]*C[1]-k[1]*C[2]-k[2]*C[2]\n",
    "    dC3dt = kf2*C[2]\n",
    "    return [dC0dt, dC1dt, dC2dt, dC3dt]\n",
    "\n",
    "\n",
    "def ODE_eqs_part_II_SS(C, t, k):\n",
    "    r\"\"\"See eqs 1.2, 1.1a and 1.3a\n",
    "    Using the steady state approximation on dLR/dt.\n",
    "    :math:`L + R \\underset{k_{b1}}{\\stackrel{k_{f1}}{⥂}} L\\cdot R \\stackrel{k_{f2}}{\\rightarrow} P`\n",
    "\n",
    "    Args:\n",
    "        C(list): collection of concentrations for each species [L, R, LR, P]\n",
    "        t(float): iterate over some time-course\n",
    "        k(list): collection of rate constants [kf1, kb1, kf2]\n",
    "    \"\"\"\n",
    "    \n",
    "    kf1, kb1, kf2 = k[0], k[1], k[2]\n",
    "    dC1dt = -kf1*C[0]*C[1]+kb1*(kf1/(kb1+kf2)*C[0]*C[1])\n",
    "    dC0dt = dC1dt\n",
    "    dC2dt = k[0]*C[0]*C[1]-k[1]*C[2]-k[2]*C[2]\n",
    "    dC3dt = kf2*(kf1/(kb1+kf2)*C[0]*C[1])\n",
    "    return [dC0dt, dC1dt, dC2dt, dC3dt]\n",
    "\n",
    "\n",
    "def simulate(steps, simulation_time, parameters, rate_eqs):\n",
    "    \"\"\"Method for integrating the ODEs with SciPy odeint\n",
    "    https://docs.scipy.org/doc/scipy/reference/generated/scipy.integrate.odeint.html\n",
    "\n",
    "    Args:\n",
    "        steps(int): number of iterations\n",
    "        simulation_time(int): duration of simulation (units: s)\n",
    "        parameters(dict): {'species': ['L', 'R', 'LR'],\\\n",
    "                          'k': [kf1, kb1, kf2, kb2, ...],\\  # rate constants\n",
    "                          'InitConc': [L, R, P, ...]}       # initial concentrations (units: M)\n",
    "        rate_eqs(function): method containing the ordinary differential equations\n",
    "    Returns:\n",
    "        Pandas DataFrame, plot\n",
    "    \"\"\"\n",
    "    \n",
    "    from scipy.integrate import odeint\n",
    "    print(f\"Number of species: {len(parameters['InitConc'])}\")\n",
    "    time = np.linspace(0, simulation_time, steps) \n",
    "    C = odeint(rate_eqs, parameters[\"InitConc\"], time, (parameters[\"k\"],)).transpose()\n",
    "    data = {\"time\": time, **{\"%s\"%s: C[i] for i,s in enumerate(parameters[\"species\"])}}\n",
    "    df = pd.DataFrame(data)\n",
    "    plot = df.plot(x=\"time\", y=parameters[\"species\"], figsize=(10, 4),\n",
    "                   xlim=(data[\"time\"][0], data[\"time\"][-1]))\n",
    "    return df,plot\n",
    "\n"
   ]
  },
  {
   "cell_type": "code",
   "execution_count": null,
   "metadata": {
    "colab": {
     "base_uri": "https://localhost:8080/",
     "height": 783
    },
    "colab_type": "code",
    "id": "6a8D-wLqjVjt",
    "outputId": "1f07c8de-e2df-4638-8923-e6cf5dd9e836"
   },
   "outputs": [],
   "source": [
    "parameters = {\"species\": [\"L\",\"R\",\"LR\"],\n",
    "             \"InitConc\": [10, 5, 0],\n",
    "              #          [kf1, kb1, kf2]\n",
    "             \"k\":        [0.02, 0.01, \"NaN\"]}\n",
    "#print(pd.DataFrame(parameters))\n",
    "df,plot = simulate(steps=1000, simulation_time=10,\n",
    "                   parameters=parameters, rate_eqs=ODE_eqs_part_I) \n",
    "plot = plot.set_title(r\"$L + R ⥂ L\\cdot R$\")\n",
    "fig = plot.get_figure()\n",
    "#fig.savefig(\"figure.png\")\n",
    "df"
   ]
  },
  {
   "cell_type": "code",
   "execution_count": null,
   "metadata": {
    "colab": {
     "base_uri": "https://localhost:8080/",
     "height": 783
    },
    "colab_type": "code",
    "id": "F7r3uQQ8sbOe",
    "outputId": "9f1a0955-8a26-4b8d-b7f6-c13eec2123e6"
   },
   "outputs": [],
   "source": [
    "parameters = {\"species\": [\"L\",\"R\", \"LR\", \"P\"],\n",
    "             \"InitConc\": [10, 5, 0, 0],\n",
    "             #            [kf1, kb1, kf2, ...]\n",
    "             \"k\":        [0.02, 0.01, 0.05, \"NaN\"]}\n",
    "#print(pd.DataFrame(parameters))\n",
    "df,plot = simulate(steps=1000, simulation_time=100,\n",
    "                   parameters=parameters, rate_eqs=ODE_eqs_part_II) \n",
    "plot = plot.set_title(r\"$L + R ⥂ L\\cdot R \\rightarrow P$\")\n",
    "fig = plot.get_figure()\n",
    "#fig.savefig(\"figure.png\")\n",
    "df"
   ]
  },
  {
   "cell_type": "code",
   "execution_count": null,
   "metadata": {
    "colab": {
     "base_uri": "https://localhost:8080/",
     "height": 783
    },
    "colab_type": "code",
    "id": "KHTxZ18ciZlb",
    "outputId": "935c0a85-2e8e-40f8-9cdc-7a165d1f6e3d"
   },
   "outputs": [],
   "source": [
    "#“Forward Rate Parameter” ( 𝑘𝑓1 ): 0.01 , “Reverse Rate Parameter” ( 𝑘𝑏1 ): 0.02 , “k-prod” ( 𝑘𝑓2 ): 0.05\n"
   ]
  },
  {
   "cell_type": "code",
   "execution_count": null,
   "metadata": {
    "colab": {
     "base_uri": "https://localhost:8080/",
     "height": 783
    },
    "colab_type": "code",
    "id": "vIG2HY2Sijt2",
    "outputId": "366ec56e-c664-4a35-b431-40f34439fa29"
   },
   "outputs": [],
   "source": [
    "#“Forward Rate Parameter” ( 𝑘𝑓1 ): 0.02, “Reverse Rate Parameter” ( 𝑘𝑏1 ): 0.01 , “k-prod” ( 𝑘𝑓2 ): 0.5\n"
   ]
  },
  {
   "cell_type": "markdown",
   "metadata": {
    "colab_type": "text",
    "id": "-_IrkoX3Vliv"
   },
   "source": [
    "<p><strong>Bonus</strong></p>\n",
    "<p>This same reaction can be used to describe Michaelis-Menten enzyme kinetics, in which substrate (S) binds a protein enzyme (E) to form an encounter complex (E∙S), and then chemically converts to product (E + P).</p>\n",
    "\n",
    "\n",
    "$$E + S \\underset{k_{b1}}{\\stackrel{k_{f1}}{⥂}} E\\cdot S \\stackrel{k_{cat}}{\\to} E + P$$\n",
    "\n",
    "\n",
    "\n",
    "\n",
    "<p>Suppose an enzyme has <em>k</em><sub>f1</sub> = 10<sup>7</sup> s<sup>-1</sup>, <em>k</em><sub>b1</sub> = 10<sup>6</sup> s<sup>-1</sup> and <em>k</em><sub>cat</sub> = 10<sup>4</sup> s<sup>-1</sup>. By adjusting parameters in the function above, which of these rates constants would you say most sensitively controls the overall rate of catalysis?</p>\n",
    "\n"
   ]
  },
  {
   "cell_type": "code",
   "execution_count": null,
   "metadata": {
    "colab": {},
    "colab_type": "code",
    "id": "m4DLJMTXciSg"
   },
   "outputs": [],
   "source": []
  }
 ],
 "metadata": {
  "colab": {
   "collapsed_sections": [],
   "name": "Chemical_Kinetics_I.ipynb",
   "provenance": []
  },
  "kernelspec": {
   "display_name": "Python 3",
   "language": "python",
   "name": "python3"
  },
  "language_info": {
   "codemirror_mode": {
    "name": "ipython",
    "version": 3
   },
   "file_extension": ".py",
   "mimetype": "text/x-python",
   "name": "python",
   "nbconvert_exporter": "python",
   "pygments_lexer": "ipython3",
   "version": "3.7.3"
  }
 },
 "nbformat": 4,
 "nbformat_minor": 1
}
