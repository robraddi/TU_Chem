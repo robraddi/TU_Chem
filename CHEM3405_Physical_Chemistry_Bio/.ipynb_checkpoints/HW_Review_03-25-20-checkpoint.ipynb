{
 "cells": [
  {
   "cell_type": "markdown",
   "metadata": {},
   "source": [
    "#### <span style='color:blue'>10.</span>\n",
    "\n",
    "<!--\n",
    "HW 7: Chap 12: #10, 11, 12, 14, 19\n",
    "HW 8: Chapter 12: #25, 37*, 39, 40**\n",
    "Chapter 11: #1, 2, 17 (Hint: see equation on p. 408), 20, 22, 25\n",
    "-->\n",
    "\n",
    "\n",
    "**HW Review:**"
   ]
  },
  {
   "cell_type": "markdown",
   "metadata": {},
   "source": [
    "<p><strong>Diffraction and crystallography</strong></p>\n",
    "\n",
    "\n",
    "<p><b>11.2 Describe the “phase problem” in X-ray crystallography, and at least one way the problem can be addressed (or at least circumvented to solve X-ray structures).</b></p>\n",
    "\n",
    "<p><u>See Page 420 for phase problem, See Page 421 for the way the problem can be addressed.</u></p>\n",
    "\n",
    "\n",
    "\n",
    "<p><b>11.20 Draw a set of points as a rectangular array based on unit cells of side a and b, and mark the planes with Miller indices (1,0,0), (0,1,0), (1,1,0), (1,2,0), (2,3,0), (4,1,0)<!--, and (4,$\\bar{1}$,0)-->.</b>\n",
    "</p>\n",
    "\n",
    "Here's an example...\n",
    "\n",
    "$$(1,2,0) = (k,h,l) \\implies (\\frac{a}{h},\\frac{b}{k},0) = (\\frac{a}{1},\\frac{b}{2},0) \\\\ \\implies 2\\times(\\frac{a}{1},\\frac{b}{2},0) = (2a,b,0)$$\n",
    "\n",
    "<hr>\n",
    "\n",
    "<img src=\"images/11.20.pdf\" width=\"700\" height=\"700\" align=\"center\">\n",
    "\n",
    "<hr>\n",
    "\n",
    "<!--\n",
    "<p><b>11.20 (continued) The crystal unit cell of MDM2 has dimensions <em>a</em> = 43.4 Å, <em>b</em> = 100.5 Å, <em>c</em> = 54.8 Å. What is the spacing <em>d</em> of diffraction planes with Miller indices (2,1,0)?</b></p>\n",
    "<p></p>\n",
    "\n",
    "\n",
    "\\begin{equation}\n",
    "\\frac{1}{d^{2}}=\\frac{h^{2}}{a^{2}}+\\frac{k^{2}}{b^{2}}+\\frac{l^{2}}{c^{2}}\n",
    "\\end{equation}\n",
    "\n",
    "<p><u>See Page 418 for more information.</u></p>\n",
    "-->\n"
   ]
  },
  {
   "cell_type": "markdown",
   "metadata": {},
   "source": [
    "**Chapter 12**\n",
    "\n",
    "**12.12 A swimmer enters a gloomier world (in one sense) on diving to greater depths. Given that the mean molar absorption coefficient of seawater in the visible region is $6.2x10^{−5}$ $dm^{3}$ $mol^{−1}$ $cm^{−1}$, calculate the depth at which a diver will experience (a) half the surface intensity of light and (b) one-tenth that intensity.**\n",
    "\n",
    "\n",
    "### Derivation of Beer's Law:\n",
    "\n",
    "Here is an image of the situation we wish to model:\n",
    "\n",
    "<img src=\"http://life.nthu.edu.tw/~labcjw/BioPhyChem/Spectroscopy/pics/beersla1.gif\" height=\"300\" width=\"300\" align=\"center\" >\n",
    "\n",
    "The density of particles, $\\rho$ and the absorption coefficient, $\\alpha$ multiplied by the intensity, I shown in the  1st order differential equation:\n",
    "$$ -\\frac{\\partial{I}}{\\partial{x}} = I \\alpha \\rho $$\n",
    "\n",
    "Combine like-terms to each side of the equation:\n",
    "\n",
    "$$\\int_{I_{0}}^{I}  \\frac{\\partial{I}}{I} = -\\int_{0}^{x} \\alpha \\rho \\partial{x} $$\n",
    "\n",
    "\n",
    "We know that $\\int \\frac{1}{x}dx = ln(x)$, so\n",
    "\n",
    "$$ln(\\frac{I}{I_{0}}) = - \\alpha \\rho x, $$\n",
    "\n",
    "\n",
    "-----------------\n",
    "\n",
    "To get the general solution of the D.E we can take the exponential of both sides \n",
    "\n",
    "$$\\frac{I}{I_{0}} = e^{-\\alpha \\rho x} $$\n",
    "\n",
    "**General Solution to the D.E**:\n",
    "\n",
    "$$I (x) = I_{0} e^{-\\alpha \\rho x}$$\n",
    "\n",
    "--------------------------\n",
    "\n",
    "Otherwise, to continue deriving Beer's Law we can use the property of logarithms:\n",
    "\n",
    "$$-ln(\\frac{I}{I_{0}}) = ln(\\frac{I_{0}}{I}) = \\alpha \\rho x, $$\n",
    "\n",
    "\n",
    "and since we know the following\n",
    "\n",
    "$$log_{10}(x) = \\frac{ln(x)}{ln(10)},$$\n",
    "\n",
    "then we can say\n",
    "\n",
    "$$ log_{10}(\\frac{I_{0}}{I}) = \\frac{\\alpha \\rho x}{ln(10)}$$\n",
    "\n",
    "\n",
    "Finally, we can say that $\\rho \\propto c$.  We can also simplify further by saying $\\epsilon =\\frac{\\alpha}{ln(10)}$, which has units of $M^{-1}cm^{-1}$ and $x = b$, where b is in cm.\n",
    "\n",
    "$$ A = log(\\frac{I_{0}}{I}) = \\epsilon b c$$\n",
    "\n",
    "Now, solving for the path length $b$ gives the following expression with $c_{H_{2}O} = \\rho/MW$ and $I = 0.5I_{0}$.\n",
    "\n",
    "\n",
    "$$ b = \\frac{log(\\frac{I_{0}}{0.5I_{0}})}{\\epsilon (\\rho/MW)} =  \\frac{0.301}{(6.2 x 10^{-5} dm^{3}. mol^{-1}.cm^{-1}) (55.5 mol.dm^{-3})} = 87 cm $$\n",
    "\n",
    "**Note**, since the information regarding salt water concentration is not provided in the question we approximated the concentration by with values for $H_{2}O$.\n",
    "\n",
    "\n",
    "<!--\n",
    "**12.14 The molar absorption coefficients of tryptophan and tyrosine at 240 nm are 2.00 × 103 dm3 mol−1 cm−1 and 1.12 × 104 dm3 mol−1 cm−1, respectively, and at 280 nm they are 5.40 × 103 dm3 mol−1 cm−1 and 1.50 × 103 dm3 mol−1 cm−1. The absorbance of a sample obtained by hydrolysis of a protein was measured in a cell of thickness 1.00 cm and was found to be 0.660 at 240 nm and 0.221 at 280 nm. What are the concentrations of the two amino acids?**\n",
    "-->"
   ]
  },
  {
   "cell_type": "markdown",
   "metadata": {},
   "source": [
    "\n",
    "**12.25 How many normal modes of vibration are there for (a) $NO_{2}$, (b) $N_{2}O$, (c) cyclohexane, and (d) hexane?**\n",
    "\n",
    "There are $3N-6$ and $3N-5$ vibrational modes (in which N is the number of atoms in molecule) for non-linear and linear molecules; respectively.\n",
    "\n",
    "\n",
    "**(a)** $NO_{2}$, Non-linear; $3N-6 = 3(3)-6 = 3$\n",
    "\n",
    "**(b)** $N_{2}O$, linear; $3N-5 = 3(3)-5 = 4$\n",
    "\n",
    "**(c)** cyclohexane, non-linear; $3N-6 = 3(18)-6 = 48$\n",
    "\n",
    "**(d)** hexane, non-linear; $3N-6 = 3(20)-6 = 54$\n",
    "\n",
    "\n"
   ]
  },
  {
   "cell_type": "markdown",
   "metadata": {},
   "source": [
    "-----------------------------------------\n",
    "\n",
    "**SIDE NOTES:**\n",
    "\n",
    "### Rates of various processes\n",
    "\n",
    "| $\\text{Process}$ | $\\text{Timescales (s)}$ | $\\text{Radiative}$ | $\\text{Transition}$ |\n",
    "| :--: | :--: | :--: | :--: |\n",
    "| IC         | $10^{-14}-10^{-11}$ | N  | $S_{n} \\to S_{1}$ |\n",
    "| Vib Relax  | $10^{-14}-10^{-11}$ | N  | ${S_{n}}^{*} \\to S_{n}$  |\n",
    "| Abs        | $10^{-15}$          | Y  | $S_{0} \\to S_{n}$ |\n",
    "| Fluor      | $10^{-9}-10^{-7}$   | Y  | $S_{1} \\to S_{0}$  |\n",
    "| ISC        | $10^{-8}-10^{-3}$   | N  | $S_{1} \\to T_{1}$  |\n",
    "| Phos       | $10^{-4}-10^{0}$   | Y  | $T_{1} \\to S_{0}$  |\n",
    "\n",
    "\n",
    "- timescale of FRET are typically in ns \n",
    "\n",
    "\n",
    "-----------------------------------------\n",
    "\n",
    "\n",
    "\n",
    "**12.37 When benzophenone is illuminated with ultraviolet radiation, it is excited into a singlet state. This singlet changes rapidly into a triplet, which phosphoresces. Triethylamine acts as a quencher for the triplet. In an experiment in methanol as solvent, the phosphorescence intensity Iphos varied with amine concentration as shown below. A time-resolved laser spectroscopy experiment had also shown that the half-life of the fluorescence in the absence of quencher is 29 ms. What is the value of $k_{Q}$?**\n",
    "\n",
    "\n",
    "| $Species$ | $\\text{}$ | $\\text{}$ | $\\text{}$ |\n",
    "| :--: | :--: | :--: | :--: |\n",
    "| $[Q]/(mol\\space dm^{−3})$ | 0.0010 | 0.0050 | 0.0100 |\n",
    "| $I_{phos}/(A.U.)$ | 0.41 | 0.25 | 0.16|\n",
    "\n",
    "\n",
    "First, we need to write out the mechanism that is given in the question:\n",
    "\n",
    ">When benzophenone is illuminated with ultraviolet radiation, it is excited into a singlet state. \n",
    "\n",
    "$$ M + h\\nu_{i} \\rightarrow M^{*} \\tag{1}$$\n",
    "\n",
    ">This singlet changes rapidly into a triplet, which phosphoresces.\n",
    "\n",
    "$$ M^{*} \\rightarrow M + h\\nu_{phos} \\tag{2}$$\n",
    "\n",
    ">Triethylamine acts as a quencher for the triplet.\n",
    "\n",
    "$$ M^{*} + Q \\rightarrow M + Q \\tag{3}$$\n",
    "\n",
    "\n",
    "<hr>\n",
    "\n",
    "To model this process, we apply the steady state approximation on $[M^{*}]$ to obtain $I_{phos}$... (Do this to get your own \"stern-volmer\" equation that models what the questions provides).\n",
    "\n",
    "**Steady State** is an assumption that the rate of (production/destruction) is equal to zero i.e., at equilibrium. \n",
    "\n",
    "$$\\frac{d[M^{*}]}{dt} = I_{abs} - k_{Q}[Q][M^{*}]-k_{phos}[M^{*}]=0$$\n",
    "\n",
    "$$ \\implies (-k_{Q}[Q]-k_{phos})[M^{*}] = -I_{abs} \\implies [M^{*}] = \\frac{I_{abs}}{k_{Q}[Q]+k_{phos}},$$\n",
    "\n",
    "and we know that $I_{phos} = k_{phos}[M^{*}]$, so \n",
    "\n",
    "$$ I_{phos} = k_{phos} \\frac{I_{abs}}{k_{Q}[Q]+k_{phos}}$$\n",
    "\n",
    "We can take the inverse of $I_{phos}$ to get the equation in the form of a line:\n",
    "\n",
    "$$ \\frac{1}{I_{phos}} =  \\frac{1}{I_{abs}}  + \\frac{k_{Q}[Q]}{k_{phos}I_{abs}}$$\n",
    "\n",
    "Now, we plot the data that was given and extract the slope..."
   ]
  },
  {
   "cell_type": "code",
   "execution_count": 7,
   "metadata": {},
   "outputs": [
    {
     "name": "stdout",
     "output_type": "stream",
     "text": [
      "LINEST data:\n",
      "y=424.530188*x+(1.965514)\n",
      "LinregressResult(slope=424.53018792483005, intercept=1.9655137944822072, rvalue=0.9992022644095554, pvalue=0.025430416912291167, stderr=16.967310989778486)\n",
      "<scipy.stats._distn_infrastructure.rv_frozen object at 0x1a21538ef0>\n",
      "Ttest_indResult(statistic=-3.8190819880146667, pvalue=0.01879308191627094)\n"
     ]
    },
    {
     "data": {
      "image/png": "[encoded data removed]",
      "text/plain": [
       "<Figure size 576x288 with 1 Axes>"
      ]
     },
     "metadata": {
      "needs_background": "light"
     },
     "output_type": "display_data"
    }
   ],
   "source": [
    "%matplotlib inline\n",
    "import plot as p\n",
    "import numpy as np\n",
    "Q = np.array([0.0010,0.0050, 0.0100])\n",
    "Iphos = np.array([0.41, 0.25, 0.16])\n",
    "x,y = Q,1/Iphos\n",
    "p.simple_plot(x,y,xlabel=r'$[Q]$',ylabel=r'${I_{phos}}^{-1}$',Type='scatter',color=False,fig_size=(8,4),\n",
    "              fit=True, order=1, annotate_text=r\"$slope=k_{Q}/(k_{phos}I_{abs})$\",annotate_x=-0.005, annotate_y=5.5)"
   ]
  },
  {
   "cell_type": "markdown",
   "metadata": {},
   "source": [
    "Therefore, the linear fit gives:\n",
    "$$I_{phos}^{-1}=(424.5302 dm^{3} mol )[Q]+(1.966), $$\n",
    "\n",
    "where $\\frac{k_{Q}}{k_{phos}I_{abs}} = 424.5302 dm^{3} mol $. \n",
    "\n",
    "Therefore,\n",
    "\n",
    "$$k_{Q} = \\frac{(24.5302 dm^{3} mol)(2.39x10^{4} s^{-1})}{1.97} = 5.2x10^{6} dm^{3} mol^{-1} s^{-1}  $$\n",
    "\n",
    "<!--\n",
    "The quantum efficiency of fluorescence is $\\phi_{F}$, where \n",
    "$$\\phi_{F} = \\frac{\\text{rate of fluor}}{I_{abs}} = \\frac{k_{F} [M^{*}]}{I_{abs}} $$\n",
    "$$\\phi_{F} = \\frac{\\text{rate of fluor}}{I_{abs}} $$\n",
    "Observed fluorescence lifetime $\\tau_{0}$ is defined as \n",
    "$$\\tau_{0} = \\frac{\\phi_{F}}{k_{F}} $$\n",
    "The question gives data for $I_{phos}$, and you need to extract the slope to obtain $k_{Q}$.\n",
    "-->\n",
    "\n",
    "\n",
    "\n",
    "\n",
    "\n",
    "\n",
    "\n",
    "\n",
    "\n",
    "\n",
    "#### [Jump to table of contents.](#Table-of-Contents:)"
   ]
  },
  {
   "cell_type": "markdown",
   "metadata": {},
   "source": [
    "<hr>\n",
    "\n",
    "\n",
    "\n",
    "<p><b>What kind of information can be obtained using FRET spectroscopy? What is the distance dependence of the FRET effect?</b></p>\n",
    "\n",
    "<p>Förster resonance energy transfer (FRET) spectroscopy is useful for studying processes involving inter and intra-molecular energy transfer and can be used to measure distances (ranging from 1 to 9 nm) in biological systems.  Furthermore, conformational changes can be studied, and also good for studying bulk distances. Single molecule FRET —create histograms of binned FRET distances, ultimately revealing states.<u>See Pages 500,501 for more information.</u></p>\n",
    "\n",
    "<hr>\n",
    "\n",
    "**12.39 The Förster theory of resonance energy transfer and the basis for the FRET technique can be tested by performing fluorescence measurements on a series of compounds in which an energy donor and an energy acceptor are covalently linked by a rigid molecular linker of variable and known length. L. Stryer and R.P. Haugland, Proc. Natl. Acad. Sci. USA 58, 719 (1967), collected the following data on a family of compounds with the general composition dansyl-(l-prolyl)n-naphthyl, in which the distance R between the naphthyl donor and the dansyl acceptor was varied by increasing the number of prolyl units in the linker:**\n",
    "\n",
    "\n",
    "| $\\text{}$ | $\\text{}$ | $\\text{}$ | $\\text{}$ | $\\text{}$ | $\\text{}$ | $\\text{}$ | $\\text{}$ | $\\text{}$ | $\\text{}$ | $\\text{}$ |\n",
    "| :--: | :--: | :--: | :--: | :--: | :--: | :--: | :--: | :--: | :--: | :--: | \n",
    "| $R/nm$ | 1.2 | 1.5 | 1.8 | 2.8 | 3.1 | 3.4 | 3.7 | 4.0 | 4.3 | 4.6 |\n",
    "| $\\eta_{T}$ | 0.99 | 0.94 | 0.97 | 0.82 | 0.74 | 0.65 | 0.40 | 0.28 | 0.24 | 0.16 |\n",
    "\n",
    "\n",
    "\n",
    "**Are the data described adequately by the Förster theory (eqns 12.26 and 12.27)? If so, what is the value of $R_{0}$ for the naphthyl–dansyl pair?**\n",
    "\n",
    "\n",
    "<h5> Förster theory:</h5>\n",
    "\n",
    "States that the efficiency of resonance energy transfer is related to the distance $R$ between donor-acceptor pairs by\n",
    "\n",
    "$$\\eta_{T} = \\frac{{R_{0}}^{6}}{{R_{0}}^{6} + {R}^{6}}, $$\n",
    "\n",
    "where $R_{0}$ is the distance at which $50 \\%$ of the energy is transfered from donor to acceptor, and $R$ is the distance between donor and acceptor.\n",
    "\n",
    "First, we need to rearrange the Förster theory equation into a linearized form. \n",
    "\n",
    "$$ \\frac{1}{\\eta_{T}} = \\frac{{R_{0}}^{6} + {R}^{6}}{{R_{0}}^{6}} = 1 + (\\frac{R}{R_{0}})^{6}$$\n",
    "\n",
    "Now, we are able to plot the data:\n",
    "\n"
   ]
  },
  {
   "cell_type": "code",
   "execution_count": 2,
   "metadata": {},
   "outputs": [
    {
     "name": "stdout",
     "output_type": "stream",
     "text": [
      "LINEST data:\n",
      "y=0.000550*x+(0.971320)\n",
      "LinregressResult(slope=0.0005503182706557045, intercept=0.9713203050354837, rvalue=0.9942902411662985, pvalue=4.618174499727511e-09, stderr=2.0881362169084858e-05)\n",
      "<scipy.stats._distn_infrastructure.rv_frozen object at 0x1a216ce0f0>\n",
      "Ttest_indResult(statistic=2.5136170122897212, pvalue=0.021684950976179403)\n"
     ]
    },
    {
     "data": {
      "image/png": "[encoded data removed]",
      "text/plain": [
       "<Figure size 576x288 with 1 Axes>"
      ]
     },
     "metadata": {
      "needs_background": "light"
     },
     "output_type": "display_data"
    }
   ],
   "source": [
    "%matplotlib inline\n",
    "import plot as p\n",
    "import numpy as np\n",
    "R = np.array([1.2, 1.5, 1.8, 2.8, 3.1, 3.4, 3.7, 4.0, 4.3, 4.6])\n",
    "nT = np.array([0.99, 0.94, 0.97, 0.82, 0.74, 0.65, 0.40, 0.28, 0.24, 0.16])\n",
    "x,y = R**6,1/nT\n",
    "p.simple_plot(x,y,xlabel=r'$(R/(nm))^{6}$',ylabel=r'${\\eta_{T}}^{-1}$',Type='scatter',\n",
    "              color=False,fig_size=(8,4),fit=True, order=1)"
   ]
  },
  {
   "cell_type": "markdown",
   "metadata": {},
   "source": [
    "Using the slope of the line $y=0.000550*x+(0.971320)$, where the slope is $0.000550 = (\\frac{1}{R_{0}})^{6}$.\n",
    "\n",
    "$$R_{0} = (\\frac{1}{0.000550 nm^{-6}})^{1/6} = 3.5 nm$$"
   ]
  },
  {
   "cell_type": "code",
   "execution_count": null,
   "metadata": {},
   "outputs": [],
   "source": []
  },
  {
   "cell_type": "code",
   "execution_count": null,
   "metadata": {},
   "outputs": [],
   "source": []
  }
 ],
 "metadata": {
  "kernelspec": {
   "display_name": "Python 3",
   "language": "python",
   "name": "python3"
  },
  "language_info": {
   "codemirror_mode": {
    "name": "ipython",
    "version": 3
   },
   "file_extension": ".py",
   "mimetype": "text/x-python",
   "name": "python",
   "nbconvert_exporter": "python",
   "pygments_lexer": "ipython3",
   "version": "3.7.3"
  }
 },
 "nbformat": 4,
 "nbformat_minor": 2
}
